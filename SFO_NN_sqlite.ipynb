{
 "cells": [
  {
   "cell_type": "code",
   "execution_count": null,
   "metadata": {
    "scrolled": true
   },
   "outputs": [],
   "source": [
    "import pandas as pd\n",
    "import sqlite3\n",
    "import numpy as np"
   ]
  },
  {
   "cell_type": "markdown",
   "metadata": {},
   "source": [
    "# 1. Import, Restructure, and Clean Data"
   ]
  },
  {
   "cell_type": "code",
   "execution_count": 21,
   "metadata": {
    "scrolled": true
   },
   "outputs": [],
   "source": [
    "#define connection\n",
    "conn = sqlite3.connect('database.sqlite')"
   ]
  },
  {
   "cell_type": "code",
   "execution_count": 22,
   "metadata": {
    "scrolled": true
   },
   "outputs": [],
   "source": [
    "#write query for first import (weather)\n",
    "query = \"\"\"SELECT date, mean_temperature_f, precipitation_inches, mean_wind_speed_mph FROM weather\"\"\""
   ]
  },
  {
   "cell_type": "code",
   "execution_count": 23,
   "metadata": {
    "scrolled": true
   },
   "outputs": [
    {
     "data": {
      "text/html": [
       "<div>\n",
       "<style scoped>\n",
       "    .dataframe tbody tr th:only-of-type {\n",
       "        vertical-align: middle;\n",
       "    }\n",
       "\n",
       "    .dataframe tbody tr th {\n",
       "        vertical-align: top;\n",
       "    }\n",
       "\n",
       "    .dataframe thead th {\n",
       "        text-align: right;\n",
       "    }\n",
       "</style>\n",
       "<table border=\"1\" class=\"dataframe\">\n",
       "  <thead>\n",
       "    <tr style=\"text-align: right;\">\n",
       "      <th></th>\n",
       "      <th>date</th>\n",
       "      <th>mean_temperature_f</th>\n",
       "      <th>precipitation_inches</th>\n",
       "      <th>mean_wind_speed_mph</th>\n",
       "    </tr>\n",
       "  </thead>\n",
       "  <tbody>\n",
       "    <tr>\n",
       "      <th>0</th>\n",
       "      <td>2013-08-29</td>\n",
       "      <td>68.0</td>\n",
       "      <td>0</td>\n",
       "      <td>11.0</td>\n",
       "    </tr>\n",
       "    <tr>\n",
       "      <th>1</th>\n",
       "      <td>2013-08-30</td>\n",
       "      <td>69.0</td>\n",
       "      <td>0</td>\n",
       "      <td>13.0</td>\n",
       "    </tr>\n",
       "    <tr>\n",
       "      <th>2</th>\n",
       "      <td>2013-08-31</td>\n",
       "      <td>64.0</td>\n",
       "      <td>0</td>\n",
       "      <td>15.0</td>\n",
       "    </tr>\n",
       "    <tr>\n",
       "      <th>3</th>\n",
       "      <td>2013-09-01</td>\n",
       "      <td>66.0</td>\n",
       "      <td>0</td>\n",
       "      <td>13.0</td>\n",
       "    </tr>\n",
       "    <tr>\n",
       "      <th>4</th>\n",
       "      <td>2013-09-02</td>\n",
       "      <td>69.0</td>\n",
       "      <td>0</td>\n",
       "      <td>12.0</td>\n",
       "    </tr>\n",
       "    <tr>\n",
       "      <th>...</th>\n",
       "      <td>...</td>\n",
       "      <td>...</td>\n",
       "      <td>...</td>\n",
       "      <td>...</td>\n",
       "    </tr>\n",
       "    <tr>\n",
       "      <th>3660</th>\n",
       "      <td>2015-08-27</td>\n",
       "      <td>78.0</td>\n",
       "      <td>0</td>\n",
       "      <td>6.0</td>\n",
       "    </tr>\n",
       "    <tr>\n",
       "      <th>3661</th>\n",
       "      <td>2015-08-28</td>\n",
       "      <td>80.0</td>\n",
       "      <td>0</td>\n",
       "      <td>7.0</td>\n",
       "    </tr>\n",
       "    <tr>\n",
       "      <th>3662</th>\n",
       "      <td>2015-08-29</td>\n",
       "      <td>72.0</td>\n",
       "      <td>0</td>\n",
       "      <td>9.0</td>\n",
       "    </tr>\n",
       "    <tr>\n",
       "      <th>3663</th>\n",
       "      <td>2015-08-30</td>\n",
       "      <td>70.0</td>\n",
       "      <td>0</td>\n",
       "      <td>10.0</td>\n",
       "    </tr>\n",
       "    <tr>\n",
       "      <th>3664</th>\n",
       "      <td>2015-08-31</td>\n",
       "      <td>72.0</td>\n",
       "      <td>0</td>\n",
       "      <td>6.0</td>\n",
       "    </tr>\n",
       "  </tbody>\n",
       "</table>\n",
       "<p>3665 rows × 4 columns</p>\n",
       "</div>"
      ],
      "text/plain": [
       "           date  mean_temperature_f precipitation_inches  mean_wind_speed_mph\n",
       "0    2013-08-29                68.0                    0                 11.0\n",
       "1    2013-08-30                69.0                    0                 13.0\n",
       "2    2013-08-31                64.0                    0                 15.0\n",
       "3    2013-09-01                66.0                    0                 13.0\n",
       "4    2013-09-02                69.0                    0                 12.0\n",
       "...         ...                 ...                  ...                  ...\n",
       "3660 2015-08-27                78.0                    0                  6.0\n",
       "3661 2015-08-28                80.0                    0                  7.0\n",
       "3662 2015-08-29                72.0                    0                  9.0\n",
       "3663 2015-08-30                70.0                    0                 10.0\n",
       "3664 2015-08-31                72.0                    0                  6.0\n",
       "\n",
       "[3665 rows x 4 columns]"
      ]
     },
     "execution_count": 23,
     "metadata": {},
     "output_type": "execute_result"
    }
   ],
   "source": [
    "#read in the weather table. set index as date to prevent multiindex default\n",
    "weather = pd.read_sql_query(query, conn, parse_dates = ['date'], index_col = 'date')\n",
    "weather.reset_index(inplace = True)\n",
    "weather.replace(\"\", np.nan)"
   ]
  },
  {
   "cell_type": "code",
   "execution_count": 24,
   "metadata": {
    "scrolled": true
   },
   "outputs": [],
   "source": [
    "#drop NAs from the weather table\n",
    "weather.dropna(inplace = True)"
   ]
  },
  {
   "cell_type": "code",
   "execution_count": 25,
   "metadata": {
    "scrolled": true
   },
   "outputs": [],
   "source": [
    "#sort weather df by date, and drop the duplicates, keeping the first instance of each\n",
    "weather.sort_values(by = 'date', inplace = True)\n",
    "weather = weather[weather.mean_temperature_f != '']\n",
    "weather_drop = weather.drop_duplicates(subset = 'date', keep = 'first').reset_index().drop('index', axis=1)"
   ]
  },
  {
   "cell_type": "code",
   "execution_count": 26,
   "metadata": {
    "scrolled": true
   },
   "outputs": [],
   "source": [
    "# replace all instance of T (trace) in the precip column with 0.005\n",
    "weather_drop['precipitation_inches'].replace('T', 0.005, inplace = True)"
   ]
  },
  {
   "cell_type": "code",
   "execution_count": 29,
   "metadata": {
    "scrolled": true
   },
   "outputs": [],
   "source": [
    "#convert precip and temp/wind cols to flt and int dtypes respectively\n",
    "weather_drop['precipitation_inches'].astype('float')\n",
    "weather_drop[['mean_temperature_f', 'mean_wind_speed_mph']] = weather_drop[['mean_temperature_f', 'mean_wind_speed_mph']].astype('int')"
   ]
  },
  {
   "cell_type": "code",
   "execution_count": 30,
   "metadata": {
    "scrolled": true
   },
   "outputs": [
    {
     "name": "stdout",
     "output_type": "stream",
     "text": [
      "<class 'pandas.core.frame.DataFrame'>\n",
      "RangeIndex: 733 entries, 0 to 732\n",
      "Data columns (total 5 columns):\n",
      " #   Column                Non-Null Count  Dtype  \n",
      "---  ------                --------------  -----  \n",
      " 0   mean_temperature_f    733 non-null    int32  \n",
      " 1   precipitation_inches  733 non-null    float64\n",
      " 2   mean_wind_speed_mph   733 non-null    int32  \n",
      " 3   dayofyear             733 non-null    int64  \n",
      " 4   year                  733 non-null    int64  \n",
      "dtypes: float64(1), int32(2), int64(2)\n",
      "memory usage: 23.0 KB\n"
     ]
    }
   ],
   "source": [
    "#extract year and day number from date col, and drop date col\n",
    "weather_drop['dayofyear'] = weather_drop['date'].dt.dayofyear\n",
    "weather_drop['year'] = weather_drop['date'].dt.year\n",
    "weather_drop.drop('date', axis = 1, inplace = True)\n",
    "weather_drop.info()"
   ]
  },
  {
   "cell_type": "code",
   "execution_count": 31,
   "metadata": {
    "scrolled": true
   },
   "outputs": [],
   "source": [
    "#read in status table, only taking entries every 5 mins (on the 0 and 5)\n",
    "query = \"\"\"SELECT station_id, bikes_available, time \n",
    "            FROM status\"\"\"\n",
    "\n",
    "status = pd.read_sql_query(query, conn, parse_dates = 'time')"
   ]
  },
  {
   "cell_type": "code",
   "execution_count": 32,
   "metadata": {
    "scrolled": true
   },
   "outputs": [
    {
     "name": "stdout",
     "output_type": "stream",
     "text": [
      "<class 'pandas.core.frame.DataFrame'>\n",
      "RangeIndex: 71984434 entries, 0 to 71984433\n",
      "Data columns (total 3 columns):\n",
      " #   Column           Dtype         \n",
      "---  ------           -----         \n",
      " 0   station_id       int64         \n",
      " 1   bikes_available  int64         \n",
      " 2   time             datetime64[ns]\n",
      "dtypes: datetime64[ns](1), int64(2)\n",
      "memory usage: 1.6 GB\n"
     ]
    }
   ],
   "source": [
    "status.info()"
   ]
  },
  {
   "cell_type": "code",
   "execution_count": 33,
   "metadata": {
    "scrolled": false
   },
   "outputs": [
    {
     "name": "stdout",
     "output_type": "stream",
     "text": [
      "<class 'pandas.core.frame.DataFrame'>\n",
      "RangeIndex: 71984434 entries, 0 to 71984433\n",
      "Data columns (total 6 columns):\n",
      " #   Column           Dtype\n",
      "---  ------           -----\n",
      " 0   station_id       int64\n",
      " 1   bikes_available  int64\n",
      " 2   dayofweek        int64\n",
      " 3   min_in_day       int64\n",
      " 4   dayofyear        int64\n",
      " 5   year             int64\n",
      "dtypes: int64(6)\n",
      "memory usage: 3.2 GB\n"
     ]
    }
   ],
   "source": [
    "#break down the datetime into its individual features and drop the original datetime\n",
    "status['dayofweek'] = status['time'].dt.dayofweek\n",
    "status['min_in_day'] = status['time'].dt.hour * 60 + status['time'].dt.minute\n",
    "status['dayofyear'] = status['time'].dt.dayofyear\n",
    "status['year'] = status['time'].dt.year\n",
    "\n",
    "status.drop('time', axis = 1, inplace = True)\n",
    "\n",
    "status.info()"
   ]
  },
  {
   "cell_type": "code",
   "execution_count": 34,
   "metadata": {},
   "outputs": [
    {
     "name": "stdout",
     "output_type": "stream",
     "text": [
      "<class 'pandas.core.frame.DataFrame'>\n",
      "Int64Index: 71984434 entries, 0 to 71984433\n",
      "Data columns (total 9 columns):\n",
      " #   Column                Dtype  \n",
      "---  ------                -----  \n",
      " 0   station_id            int64  \n",
      " 1   bikes_available       int64  \n",
      " 2   dayofweek             int64  \n",
      " 3   min_in_day            int64  \n",
      " 4   dayofyear             int64  \n",
      " 5   year                  int64  \n",
      " 6   mean_temperature_f    int32  \n",
      " 7   precipitation_inches  float64\n",
      " 8   mean_wind_speed_mph   int32  \n",
      "dtypes: float64(1), int32(2), int64(6)\n",
      "memory usage: 4.8 GB\n"
     ]
    }
   ],
   "source": [
    "#merge status and weather dfs on 'dayofyear' and 'year'. \n",
    "status = status.merge(weather_drop, how = 'left', on = ['dayofyear', 'year'])\n",
    "status.info()"
   ]
  },
  {
   "cell_type": "markdown",
   "metadata": {},
   "source": [
    "# 3. Data Preprocessing"
   ]
  },
  {
   "cell_type": "code",
   "execution_count": 35,
   "metadata": {
    "scrolled": true
   },
   "outputs": [],
   "source": [
    "from sklearn.preprocessing import scale\n",
    "from sklearn.model_selection import train_test_split"
   ]
  },
  {
   "cell_type": "code",
   "execution_count": 36,
   "metadata": {},
   "outputs": [
    {
     "name": "stdout",
     "output_type": "stream",
     "text": [
      "<class 'pandas.core.frame.DataFrame'>\n",
      "Int64Index: 71984434 entries, 0 to 71984433\n",
      "Data columns (total 86 columns):\n",
      " #   Column                Dtype  \n",
      "---  ------                -----  \n",
      " 0   bikes_available       int64  \n",
      " 1   min_in_day            int64  \n",
      " 2   dayofyear             int64  \n",
      " 3   mean_temperature_f    int32  \n",
      " 4   precipitation_inches  float64\n",
      " 5   mean_wind_speed_mph   int32  \n",
      " 6   station_id_2          uint8  \n",
      " 7   station_id_3          uint8  \n",
      " 8   station_id_4          uint8  \n",
      " 9   station_id_5          uint8  \n",
      " 10  station_id_6          uint8  \n",
      " 11  station_id_7          uint8  \n",
      " 12  station_id_8          uint8  \n",
      " 13  station_id_9          uint8  \n",
      " 14  station_id_10         uint8  \n",
      " 15  station_id_11         uint8  \n",
      " 16  station_id_12         uint8  \n",
      " 17  station_id_13         uint8  \n",
      " 18  station_id_14         uint8  \n",
      " 19  station_id_16         uint8  \n",
      " 20  station_id_21         uint8  \n",
      " 21  station_id_22         uint8  \n",
      " 22  station_id_23         uint8  \n",
      " 23  station_id_24         uint8  \n",
      " 24  station_id_25         uint8  \n",
      " 25  station_id_26         uint8  \n",
      " 26  station_id_27         uint8  \n",
      " 27  station_id_28         uint8  \n",
      " 28  station_id_29         uint8  \n",
      " 29  station_id_30         uint8  \n",
      " 30  station_id_31         uint8  \n",
      " 31  station_id_32         uint8  \n",
      " 32  station_id_33         uint8  \n",
      " 33  station_id_34         uint8  \n",
      " 34  station_id_35         uint8  \n",
      " 35  station_id_36         uint8  \n",
      " 36  station_id_37         uint8  \n",
      " 37  station_id_38         uint8  \n",
      " 38  station_id_39         uint8  \n",
      " 39  station_id_41         uint8  \n",
      " 40  station_id_42         uint8  \n",
      " 41  station_id_45         uint8  \n",
      " 42  station_id_46         uint8  \n",
      " 43  station_id_47         uint8  \n",
      " 44  station_id_48         uint8  \n",
      " 45  station_id_49         uint8  \n",
      " 46  station_id_50         uint8  \n",
      " 47  station_id_51         uint8  \n",
      " 48  station_id_54         uint8  \n",
      " 49  station_id_55         uint8  \n",
      " 50  station_id_56         uint8  \n",
      " 51  station_id_57         uint8  \n",
      " 52  station_id_58         uint8  \n",
      " 53  station_id_59         uint8  \n",
      " 54  station_id_60         uint8  \n",
      " 55  station_id_61         uint8  \n",
      " 56  station_id_62         uint8  \n",
      " 57  station_id_63         uint8  \n",
      " 58  station_id_64         uint8  \n",
      " 59  station_id_65         uint8  \n",
      " 60  station_id_66         uint8  \n",
      " 61  station_id_67         uint8  \n",
      " 62  station_id_68         uint8  \n",
      " 63  station_id_69         uint8  \n",
      " 64  station_id_70         uint8  \n",
      " 65  station_id_71         uint8  \n",
      " 66  station_id_72         uint8  \n",
      " 67  station_id_73         uint8  \n",
      " 68  station_id_74         uint8  \n",
      " 69  station_id_75         uint8  \n",
      " 70  station_id_76         uint8  \n",
      " 71  station_id_77         uint8  \n",
      " 72  station_id_80         uint8  \n",
      " 73  station_id_82         uint8  \n",
      " 74  station_id_83         uint8  \n",
      " 75  station_id_84         uint8  \n",
      " 76  dayofweek_0           uint8  \n",
      " 77  dayofweek_1           uint8  \n",
      " 78  dayofweek_2           uint8  \n",
      " 79  dayofweek_3           uint8  \n",
      " 80  dayofweek_4           uint8  \n",
      " 81  dayofweek_5           uint8  \n",
      " 82  dayofweek_6           uint8  \n",
      " 83  year_2013             uint8  \n",
      " 84  year_2014             uint8  \n",
      " 85  year_2015             uint8  \n",
      "dtypes: float64(1), int32(2), int64(3), uint8(80)\n",
      "memory usage: 8.6 GB\n"
     ]
    }
   ],
   "source": [
    "#convert station_id and year to categeoricals, then one-hot encode them\n",
    "status[['station_id', 'year', 'dayofweek']] = status[['station_id', 'year', 'dayofweek']] .astype('category')\n",
    "status = pd.get_dummies(status)\n",
    "status.info()"
   ]
  },
  {
   "cell_type": "code",
   "execution_count": 37,
   "metadata": {
    "scrolled": true
   },
   "outputs": [],
   "source": [
    "#take a sample of size sample_size from status_merge to do test runs on ML model\n",
    "#using the same var name so that this cell can be easily removed for the full run\n",
    "sample_size = 1*10**6\n",
    "status = status.sample(n = sample_size, random_state = 42)"
   ]
  },
  {
   "cell_type": "code",
   "execution_count": 38,
   "metadata": {
    "scrolled": true
   },
   "outputs": [],
   "source": [
    "#create X and y\n",
    "bikes = status['bikes_available']\n",
    "status = status.drop('bikes_available', axis = 1)"
   ]
  },
  {
   "cell_type": "code",
   "execution_count": 39,
   "metadata": {
    "scrolled": true
   },
   "outputs": [],
   "source": [
    "#normalize all values in X\n",
    "status = scale(status)"
   ]
  },
  {
   "cell_type": "code",
   "execution_count": 41,
   "metadata": {
    "scrolled": true
   },
   "outputs": [
    {
     "data": {
      "text/plain": [
       "85"
      ]
     },
     "execution_count": 41,
     "metadata": {},
     "output_type": "execute_result"
    }
   ],
   "source": [
    "#find the shape of X_scale to use as the input dimension\n",
    "h, w = status.shape"
   ]
  },
  {
   "cell_type": "code",
   "execution_count": 42,
   "metadata": {
    "scrolled": true
   },
   "outputs": [],
   "source": [
    "#create a train/test split of the data set being used in the model\n",
    "X_train, X_test, y_train, y_test = train_test_split(status, bikes, test_size = 0.2, random_state = 21)"
   ]
  },
  {
   "cell_type": "markdown",
   "metadata": {},
   "source": [
    "# 4. Create Neural Net ML Model"
   ]
  },
  {
   "cell_type": "code",
   "execution_count": 43,
   "metadata": {
    "scrolled": true
   },
   "outputs": [
    {
     "name": "stderr",
     "output_type": "stream",
     "text": [
      "Using TensorFlow backend.\n",
      "C:\\Users\\dalli\\anaconda3\\envs\\Python ML\\lib\\site-packages\\tensorflow\\python\\framework\\dtypes.py:516: FutureWarning: Passing (type, 1) or '1type' as a synonym of type is deprecated; in a future version of numpy, it will be understood as (type, (1,)) / '(1,)type'.\n",
      "  _np_qint8 = np.dtype([(\"qint8\", np.int8, 1)])\n",
      "C:\\Users\\dalli\\anaconda3\\envs\\Python ML\\lib\\site-packages\\tensorflow\\python\\framework\\dtypes.py:517: FutureWarning: Passing (type, 1) or '1type' as a synonym of type is deprecated; in a future version of numpy, it will be understood as (type, (1,)) / '(1,)type'.\n",
      "  _np_quint8 = np.dtype([(\"quint8\", np.uint8, 1)])\n",
      "C:\\Users\\dalli\\anaconda3\\envs\\Python ML\\lib\\site-packages\\tensorflow\\python\\framework\\dtypes.py:518: FutureWarning: Passing (type, 1) or '1type' as a synonym of type is deprecated; in a future version of numpy, it will be understood as (type, (1,)) / '(1,)type'.\n",
      "  _np_qint16 = np.dtype([(\"qint16\", np.int16, 1)])\n",
      "C:\\Users\\dalli\\anaconda3\\envs\\Python ML\\lib\\site-packages\\tensorflow\\python\\framework\\dtypes.py:519: FutureWarning: Passing (type, 1) or '1type' as a synonym of type is deprecated; in a future version of numpy, it will be understood as (type, (1,)) / '(1,)type'.\n",
      "  _np_quint16 = np.dtype([(\"quint16\", np.uint16, 1)])\n",
      "C:\\Users\\dalli\\anaconda3\\envs\\Python ML\\lib\\site-packages\\tensorflow\\python\\framework\\dtypes.py:520: FutureWarning: Passing (type, 1) or '1type' as a synonym of type is deprecated; in a future version of numpy, it will be understood as (type, (1,)) / '(1,)type'.\n",
      "  _np_qint32 = np.dtype([(\"qint32\", np.int32, 1)])\n",
      "C:\\Users\\dalli\\anaconda3\\envs\\Python ML\\lib\\site-packages\\tensorflow\\python\\framework\\dtypes.py:525: FutureWarning: Passing (type, 1) or '1type' as a synonym of type is deprecated; in a future version of numpy, it will be understood as (type, (1,)) / '(1,)type'.\n",
      "  np_resource = np.dtype([(\"resource\", np.ubyte, 1)])\n",
      "C:\\Users\\dalli\\anaconda3\\envs\\Python ML\\lib\\site-packages\\tensorboard\\compat\\tensorflow_stub\\dtypes.py:541: FutureWarning: Passing (type, 1) or '1type' as a synonym of type is deprecated; in a future version of numpy, it will be understood as (type, (1,)) / '(1,)type'.\n",
      "  _np_qint8 = np.dtype([(\"qint8\", np.int8, 1)])\n",
      "C:\\Users\\dalli\\anaconda3\\envs\\Python ML\\lib\\site-packages\\tensorboard\\compat\\tensorflow_stub\\dtypes.py:542: FutureWarning: Passing (type, 1) or '1type' as a synonym of type is deprecated; in a future version of numpy, it will be understood as (type, (1,)) / '(1,)type'.\n",
      "  _np_quint8 = np.dtype([(\"quint8\", np.uint8, 1)])\n",
      "C:\\Users\\dalli\\anaconda3\\envs\\Python ML\\lib\\site-packages\\tensorboard\\compat\\tensorflow_stub\\dtypes.py:543: FutureWarning: Passing (type, 1) or '1type' as a synonym of type is deprecated; in a future version of numpy, it will be understood as (type, (1,)) / '(1,)type'.\n",
      "  _np_qint16 = np.dtype([(\"qint16\", np.int16, 1)])\n",
      "C:\\Users\\dalli\\anaconda3\\envs\\Python ML\\lib\\site-packages\\tensorboard\\compat\\tensorflow_stub\\dtypes.py:544: FutureWarning: Passing (type, 1) or '1type' as a synonym of type is deprecated; in a future version of numpy, it will be understood as (type, (1,)) / '(1,)type'.\n",
      "  _np_quint16 = np.dtype([(\"quint16\", np.uint16, 1)])\n",
      "C:\\Users\\dalli\\anaconda3\\envs\\Python ML\\lib\\site-packages\\tensorboard\\compat\\tensorflow_stub\\dtypes.py:545: FutureWarning: Passing (type, 1) or '1type' as a synonym of type is deprecated; in a future version of numpy, it will be understood as (type, (1,)) / '(1,)type'.\n",
      "  _np_qint32 = np.dtype([(\"qint32\", np.int32, 1)])\n",
      "C:\\Users\\dalli\\anaconda3\\envs\\Python ML\\lib\\site-packages\\tensorboard\\compat\\tensorflow_stub\\dtypes.py:550: FutureWarning: Passing (type, 1) or '1type' as a synonym of type is deprecated; in a future version of numpy, it will be understood as (type, (1,)) / '(1,)type'.\n",
      "  np_resource = np.dtype([(\"resource\", np.ubyte, 1)])\n"
     ]
    }
   ],
   "source": [
    "#import necessary elements of ML model\n",
    "from keras.models import Sequential\n",
    "from keras.layers import Dense, BatchNormalization\n",
    "from keras.callbacks import EarlyStopping\n",
    "from sklearn.model_selection import train_test_split"
   ]
  },
  {
   "cell_type": "code",
   "execution_count": 44,
   "metadata": {
    "scrolled": true
   },
   "outputs": [],
   "source": [
    "#instantiate model\n",
    "model = Sequential()\n",
    "\n",
    "#create model layers\n",
    "model.add(Dense(32, input_shape = (w,), activation = 'relu'))\n",
    "model.add(Dense(32, activation = 'relu'))\n",
    "model.add(Dense(32, activation = 'relu'))\n",
    "model.add(Dense(1))\n",
    "model.compile(optimizer = 'adam', loss = 'mse', metrics = ['mse'])\n",
    "\n",
    "early_stopping = EarlyStopping(monitor = 'val_loss', patience = 3)"
   ]
  },
  {
   "cell_type": "code",
   "execution_count": 45,
   "metadata": {
    "scrolled": false
   },
   "outputs": [
    {
     "name": "stdout",
     "output_type": "stream",
     "text": [
      "WARNING:tensorflow:From C:\\Users\\dalli\\anaconda3\\envs\\Python ML\\lib\\site-packages\\keras\\backend\\tensorflow_backend.py:422: The name tf.global_variables is deprecated. Please use tf.compat.v1.global_variables instead.\n",
      "\n",
      "Train on 800000 samples, validate on 200000 samples\n",
      "Epoch 1/15\n",
      "800000/800000 [==============================] - 23s 28us/step - loss: 11.3546 - mse: 11.3546 - val_loss: 10.7819 - val_mse: 10.7819\n",
      "Epoch 2/15\n",
      "800000/800000 [==============================] - 23s 29us/step - loss: 10.1705 - mse: 10.1705 - val_loss: 9.8365 - val_mse: 9.8365\n",
      "Epoch 3/15\n",
      "800000/800000 [==============================] - 23s 29us/step - loss: 9.6169 - mse: 9.6169 - val_loss: 9.6092 - val_mse: 9.6092\n",
      "Epoch 4/15\n",
      "800000/800000 [==============================] - 23s 28us/step - loss: 9.4321 - mse: 9.4321 - val_loss: 9.3699 - val_mse: 9.3699\n",
      "Epoch 5/15\n",
      "800000/800000 [==============================] - 23s 28us/step - loss: 9.3110 - mse: 9.3110 - val_loss: 9.2669 - val_mse: 9.2669\n",
      "Epoch 6/15\n",
      "800000/800000 [==============================] - 25s 31us/step - loss: 9.2256 - mse: 9.2256 - val_loss: 9.2533 - val_mse: 9.2532\n",
      "Epoch 7/15\n",
      "800000/800000 [==============================] - 24s 30us/step - loss: 9.1585 - mse: 9.1585 - val_loss: 9.1421 - val_mse: 9.1420\n",
      "Epoch 8/15\n",
      "800000/800000 [==============================] - 23s 28us/step - loss: 9.1055 - mse: 9.1055 - val_loss: 9.1258 - val_mse: 9.1258\n",
      "Epoch 9/15\n",
      "800000/800000 [==============================] - 22s 28us/step - loss: 9.0574 - mse: 9.0574 - val_loss: 9.0800 - val_mse: 9.0799\n",
      "Epoch 10/15\n",
      "800000/800000 [==============================] - 23s 28us/step - loss: 9.0187 - mse: 9.0187 - val_loss: 9.0664 - val_mse: 9.0664\n",
      "Epoch 11/15\n",
      "800000/800000 [==============================] - 22s 28us/step - loss: 8.9857 - mse: 8.9857 - val_loss: 9.0442 - val_mse: 9.0442\n",
      "Epoch 12/15\n",
      "800000/800000 [==============================] - 23s 29us/step - loss: 8.9507 - mse: 8.9507 - val_loss: 8.9741 - val_mse: 8.9741\n",
      "Epoch 13/15\n",
      "800000/800000 [==============================] - 23s 28us/step - loss: 8.9231 - mse: 8.9231 - val_loss: 8.9741 - val_mse: 8.9741\n",
      "Epoch 14/15\n",
      "800000/800000 [==============================] - 23s 29us/step - loss: 8.8917 - mse: 8.8917 - val_loss: 8.9504 - val_mse: 8.9503\n",
      "Epoch 15/15\n",
      "800000/800000 [==============================] - 23s 28us/step - loss: 8.8730 - mse: 8.8730 - val_loss: 8.9057 - val_mse: 8.9057\n"
     ]
    }
   ],
   "source": [
    "#run the model, saving the results to history\n",
    "history = model.fit(X_train, y_train, \n",
    "                    epochs = 15,\n",
    "                    validation_data = (X_test, y_test),\n",
    "                    callbacks = [early_stopping])"
   ]
  },
  {
   "cell_type": "code",
   "execution_count": 47,
   "metadata": {
    "scrolled": false
   },
   "outputs": [
    {
     "data": {
      "image/png": "[encoded data removed]",
      "text/plain": [
       "<Figure size 432x288 with 1 Axes>"
      ]
     },
     "metadata": {
      "needs_background": "light"
     },
     "output_type": "display_data"
    }
   ],
   "source": [
    "import matplotlib.pyplot as plt\n",
    "\n",
    "#plot the training and validation loss over each epoch\n",
    "plt.plot(history.history['mse'])\n",
    "plt.plot(history.history['val_mse'])\n",
    "plt.title('Model Accuracy by Epoch')\n",
    "plt.xlabel('Epoch')\n",
    "plt.ylabel('Mean Squared Error')\n",
    "plt.legend({'Train', 'Test'})\n",
    "\n",
    "plt.savefig('model_acc.png', dpi=300)"
   ]
  },
  {
   "cell_type": "code",
   "execution_count": null,
   "metadata": {},
   "outputs": [],
   "source": []
  }
 ],
 "metadata": {
  "kernelspec": {
   "display_name": "Python 3",
   "language": "python",
   "name": "python3"
  },
  "language_info": {
   "codemirror_mode": {
    "name": "ipython",
    "version": 3
   },
   "file_extension": ".py",
   "mimetype": "text/x-python",
   "name": "python",
   "nbconvert_exporter": "python",
   "pygments_lexer": "ipython3",
   "version": "3.7.6"
  }
 },
 "nbformat": 4,
 "nbformat_minor": 4
}
