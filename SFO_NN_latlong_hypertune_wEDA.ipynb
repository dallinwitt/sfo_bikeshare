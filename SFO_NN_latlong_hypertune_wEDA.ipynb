{
 "cells": [
  {
   "cell_type": "markdown",
   "metadata": {},
   "source": [
    "# Introduction\n",
    "One of the benefits of the advancement of dockless bikeshare programs is that no individual station can be void of bikes to check out, or full of bikes, preventing a check in. However, dock-based bikeshare systems are still commonplace throughout the country, and due to the large capital investment they required, will likely remain so for some time. San Francisco MTA runs one of the largest dock-based bikeshare systems in the country, and has made data about its usage publicaly available.\n",
    "\n",
    "Joining the bike usage data with weather data from Kaggle, I was able to generate a useful set of inputs that could help determine the likely number of bikes available at a given dock, based on the weather, location, day, and time."
   ]
  },
  {
   "cell_type": "code",
   "execution_count": 1,
   "metadata": {
    "scrolled": true
   },
   "outputs": [],
   "source": [
    "import pandas as pd\n",
    "import sqlite3\n",
    "import numpy as np"
   ]
  },
  {
   "cell_type": "markdown",
   "metadata": {},
   "source": [
    "# 1 Import, Restructure, and Clean Data\n",
    "Due to the volume and variety of data in this project, I will be using python's built in SQLite RDBMS to import the data. I'll begin by defining the connection and the first query to import the weather data from the database file."
   ]
  },
  {
   "cell_type": "code",
   "execution_count": 2,
   "metadata": {
    "scrolled": true
   },
   "outputs": [],
   "source": [
    "#define connection\n",
    "conn = sqlite3.connect('database.sqlite')"
   ]
  },
  {
   "cell_type": "code",
   "execution_count": 3,
   "metadata": {
    "scrolled": true
   },
   "outputs": [],
   "source": [
    "#write query for first import (weather)\n",
    "query = \"\"\"SELECT date, mean_temperature_f, precipitation_inches, mean_wind_speed_mph FROM weather\"\"\""
   ]
  },
  {
   "cell_type": "code",
   "execution_count": 4,
   "metadata": {
    "scrolled": true
   },
   "outputs": [
    {
     "data": {
      "text/html": [
       "<div>\n",
       "<style scoped>\n",
       "    .dataframe tbody tr th:only-of-type {\n",
       "        vertical-align: middle;\n",
       "    }\n",
       "\n",
       "    .dataframe tbody tr th {\n",
       "        vertical-align: top;\n",
       "    }\n",
       "\n",
       "    .dataframe thead th {\n",
       "        text-align: right;\n",
       "    }\n",
       "</style>\n",
       "<table border=\"1\" class=\"dataframe\">\n",
       "  <thead>\n",
       "    <tr style=\"text-align: right;\">\n",
       "      <th></th>\n",
       "      <th>date</th>\n",
       "      <th>mean_temperature_f</th>\n",
       "      <th>precipitation_inches</th>\n",
       "      <th>mean_wind_speed_mph</th>\n",
       "    </tr>\n",
       "  </thead>\n",
       "  <tbody>\n",
       "    <tr>\n",
       "      <th>0</th>\n",
       "      <td>2013-08-29</td>\n",
       "      <td>68.0</td>\n",
       "      <td>0</td>\n",
       "      <td>11.0</td>\n",
       "    </tr>\n",
       "    <tr>\n",
       "      <th>1</th>\n",
       "      <td>2013-08-30</td>\n",
       "      <td>69.0</td>\n",
       "      <td>0</td>\n",
       "      <td>13.0</td>\n",
       "    </tr>\n",
       "    <tr>\n",
       "      <th>2</th>\n",
       "      <td>2013-08-31</td>\n",
       "      <td>64.0</td>\n",
       "      <td>0</td>\n",
       "      <td>15.0</td>\n",
       "    </tr>\n",
       "    <tr>\n",
       "      <th>3</th>\n",
       "      <td>2013-09-01</td>\n",
       "      <td>66.0</td>\n",
       "      <td>0</td>\n",
       "      <td>13.0</td>\n",
       "    </tr>\n",
       "    <tr>\n",
       "      <th>4</th>\n",
       "      <td>2013-09-02</td>\n",
       "      <td>69.0</td>\n",
       "      <td>0</td>\n",
       "      <td>12.0</td>\n",
       "    </tr>\n",
       "    <tr>\n",
       "      <th>...</th>\n",
       "      <td>...</td>\n",
       "      <td>...</td>\n",
       "      <td>...</td>\n",
       "      <td>...</td>\n",
       "    </tr>\n",
       "    <tr>\n",
       "      <th>3660</th>\n",
       "      <td>2015-08-27</td>\n",
       "      <td>78.0</td>\n",
       "      <td>0</td>\n",
       "      <td>6.0</td>\n",
       "    </tr>\n",
       "    <tr>\n",
       "      <th>3661</th>\n",
       "      <td>2015-08-28</td>\n",
       "      <td>80.0</td>\n",
       "      <td>0</td>\n",
       "      <td>7.0</td>\n",
       "    </tr>\n",
       "    <tr>\n",
       "      <th>3662</th>\n",
       "      <td>2015-08-29</td>\n",
       "      <td>72.0</td>\n",
       "      <td>0</td>\n",
       "      <td>9.0</td>\n",
       "    </tr>\n",
       "    <tr>\n",
       "      <th>3663</th>\n",
       "      <td>2015-08-30</td>\n",
       "      <td>70.0</td>\n",
       "      <td>0</td>\n",
       "      <td>10.0</td>\n",
       "    </tr>\n",
       "    <tr>\n",
       "      <th>3664</th>\n",
       "      <td>2015-08-31</td>\n",
       "      <td>72.0</td>\n",
       "      <td>0</td>\n",
       "      <td>6.0</td>\n",
       "    </tr>\n",
       "  </tbody>\n",
       "</table>\n",
       "<p>3665 rows × 4 columns</p>\n",
       "</div>"
      ],
      "text/plain": [
       "           date  mean_temperature_f precipitation_inches  mean_wind_speed_mph\n",
       "0    2013-08-29                68.0                    0                 11.0\n",
       "1    2013-08-30                69.0                    0                 13.0\n",
       "2    2013-08-31                64.0                    0                 15.0\n",
       "3    2013-09-01                66.0                    0                 13.0\n",
       "4    2013-09-02                69.0                    0                 12.0\n",
       "...         ...                 ...                  ...                  ...\n",
       "3660 2015-08-27                78.0                    0                  6.0\n",
       "3661 2015-08-28                80.0                    0                  7.0\n",
       "3662 2015-08-29                72.0                    0                  9.0\n",
       "3663 2015-08-30                70.0                    0                 10.0\n",
       "3664 2015-08-31                72.0                    0                  6.0\n",
       "\n",
       "[3665 rows x 4 columns]"
      ]
     },
     "execution_count": 4,
     "metadata": {},
     "output_type": "execute_result"
    }
   ],
   "source": [
    "#read in the weather table. set index as date to prevent multiindex default\n",
    "weather = pd.read_sql_query(query, conn, parse_dates = ['date'], index_col = 'date')\n",
    "weather.reset_index(inplace = True)\n",
    "weather.replace(\"\", np.nan)"
   ]
  },
  {
   "cell_type": "markdown",
   "metadata": {},
   "source": [
    "## 1.1 Cleaning Weather Data\n",
    "The wether data has a huge number of NAs, as well has hundreds of duplicates. I will begin cleaning this dataset by dropping the NAs in place, sorting by date, and dropping all duplicates (using \"keep first\" as the rule). I will also replace all instances of \"T\" in the precipitation column (which indicates trace rainfall) with a values of 0.005, which will be usable in the ML algorithm. \n",
    "\n",
    "I'll also, throughout this cleaning process, convert columns to the appropriate data type, of the smalles bitsize that is practical for the purpose. "
   ]
  },
  {
   "cell_type": "code",
   "execution_count": 5,
   "metadata": {
    "scrolled": true
   },
   "outputs": [],
   "source": [
    "#drop NAs from the weather table\n",
    "weather.dropna(inplace = True)"
   ]
  },
  {
   "cell_type": "code",
   "execution_count": 6,
   "metadata": {
    "scrolled": true
   },
   "outputs": [],
   "source": [
    "#sort weather df by date, and drop the duplicates, keeping the first instance of each\n",
    "weather.sort_values(by = 'date', inplace = True)\n",
    "weather = weather[weather.mean_temperature_f != '']\n",
    "weather_drop = weather.drop_duplicates(subset = 'date', keep = 'first').reset_index().drop('index', axis=1)"
   ]
  },
  {
   "cell_type": "code",
   "execution_count": 7,
   "metadata": {
    "scrolled": true
   },
   "outputs": [],
   "source": [
    "# replace all instance of T (trace) in the precip column with 0.005\n",
    "weather_drop['precipitation_inches'].replace('T', 0.005, inplace = True)"
   ]
  },
  {
   "cell_type": "code",
   "execution_count": 8,
   "metadata": {
    "scrolled": true
   },
   "outputs": [],
   "source": [
    "#convert precip and temp/wind cols to flt and int dtypes respectively\n",
    "weather_drop['precipitation_inches'].astype('float')\n",
    "weather_drop[['mean_temperature_f', 'mean_wind_speed_mph']] = weather_drop[['mean_temperature_f', 'mean_wind_speed_mph']].astype('int')"
   ]
  },
  {
   "cell_type": "markdown",
   "metadata": {},
   "source": [
    "I'll create calculated columns based on the datetime data in the date column. This will be used later in the script to merge dataframes. "
   ]
  },
  {
   "cell_type": "code",
   "execution_count": 9,
   "metadata": {
    "scrolled": true
   },
   "outputs": [
    {
     "name": "stdout",
     "output_type": "stream",
     "text": [
      "<class 'pandas.core.frame.DataFrame'>\n",
      "RangeIndex: 733 entries, 0 to 732\n",
      "Data columns (total 5 columns):\n",
      " #   Column                Non-Null Count  Dtype  \n",
      "---  ------                --------------  -----  \n",
      " 0   mean_temperature_f    733 non-null    int32  \n",
      " 1   precipitation_inches  733 non-null    float64\n",
      " 2   mean_wind_speed_mph   733 non-null    int32  \n",
      " 3   dayofyear             733 non-null    int32  \n",
      " 4   year                  733 non-null    int32  \n",
      "dtypes: float64(1), int32(4)\n",
      "memory usage: 17.3 KB\n"
     ]
    }
   ],
   "source": [
    "#extract year and day number from date col, and drop date col\n",
    "weather_drop['dayofyear'] = weather_drop['date'].dt.dayofyear.astype(int)\n",
    "weather_drop['year'] = weather_drop['date'].dt.year.astype(int)\n",
    "weather_drop.drop('date', axis = 1, inplace = True)\n",
    "weather_drop.info()"
   ]
  },
  {
   "cell_type": "markdown",
   "metadata": {},
   "source": [
    "## 1.2 Cleaning Station Data\n",
    "Again, using SQLite, I will import the data that defines each station, which includes its ID number, its lat-long, and its dock count. Again, I will convert these to an appropriate type."
   ]
  },
  {
   "cell_type": "code",
   "execution_count": 10,
   "metadata": {
    "scrolled": false
   },
   "outputs": [
    {
     "name": "stdout",
     "output_type": "stream",
     "text": [
      "<class 'pandas.core.frame.DataFrame'>\n",
      "RangeIndex: 70 entries, 0 to 69\n",
      "Data columns (total 4 columns):\n",
      " #   Column      Non-Null Count  Dtype  \n",
      "---  ------      --------------  -----  \n",
      " 0   station_id  70 non-null     int32  \n",
      " 1   lat         70 non-null     float64\n",
      " 2   long        70 non-null     float64\n",
      " 3   dock_count  70 non-null     int32  \n",
      "dtypes: float64(2), int32(2)\n",
      "memory usage: 1.8 KB\n"
     ]
    }
   ],
   "source": [
    "#read in station table from sql db\n",
    "query = \"\"\"SELECT id, lat, long, dock_count\n",
    "            FROM station\"\"\"\n",
    "\n",
    "stations = pd.read_sql_query(query, conn)\n",
    "stations['dock_count'] = stations['dock_count'].astype(int)\n",
    "stations.columns = ['station_id', 'lat', 'long', 'dock_count']\n",
    "stations['station_id'] = stations['station_id'].astype(int)\n",
    "stations.info()"
   ]
  },
  {
   "cell_type": "markdown",
   "metadata": {},
   "source": [
    "## 1.3 Cleaing Status Data\n",
    "This is the file that contains the majority of the useful information, and is by far the largest dataset I will use for this project (on the order of Gb). To deal with this without crashing my machine, I will read the data in as a CSV, in chunks of 1 million rows at a time.  I will then create an empty dataframe that has the appropriate column titles to later populate with the sampled data. \n",
    "\n",
    "I will employ a for loop to loop over the chunked data, and sample 10% of the data for the ML algorithm. Status data is taken for every station every ~60 seconds. By getting a 10% sample, we will get data from each station about every 10 minutes, which seems frequent enough to provide the level of precision we need. "
   ]
  },
  {
   "cell_type": "code",
   "execution_count": 11,
   "metadata": {
    "scrolled": true
   },
   "outputs": [],
   "source": [
    "#read in status table in chunks of 10**6\n",
    "status_chunk = pd.read_csv('status.csv', \n",
    "                           usecols = ['station_id', 'bikes_available', 'time'], \n",
    "                           parse_dates = ['time'], \n",
    "                           chunksize = 10**6,\n",
    "                          iterator = True)\n",
    "\n",
    "#create an empty df with the appropriate col names\n",
    "status = pd.DataFrame(columns=['station_id', 'bikes_available', 'time'])\n",
    "\n",
    "#use for loop to take samples of the chunks and append them to the the status df\n",
    "for chunk in status_chunk:\n",
    "    chunk = chunk.sample(frac = 0.1)\n",
    "    status = status.append(chunk)"
   ]
  },
  {
   "cell_type": "code",
   "execution_count": 12,
   "metadata": {},
   "outputs": [],
   "source": [
    "#convert station_id and bikes_available columns to int type\n",
    "status[['station_id', 'bikes_available']] = status[['station_id', 'bikes_available']].astype(int)"
   ]
  },
  {
   "cell_type": "code",
   "execution_count": 13,
   "metadata": {
    "scrolled": true
   },
   "outputs": [
    {
     "name": "stdout",
     "output_type": "stream",
     "text": [
      "<class 'pandas.core.frame.DataFrame'>\n",
      "Int64Index: 7198443 entries, 641875 to 71121156\n",
      "Data columns (total 3 columns):\n",
      " #   Column           Dtype         \n",
      "---  ------           -----         \n",
      " 0   station_id       int32         \n",
      " 1   bikes_available  int32         \n",
      " 2   time             datetime64[ns]\n",
      "dtypes: datetime64[ns](1), int32(2)\n",
      "memory usage: 164.8 MB\n"
     ]
    }
   ],
   "source": [
    "status.info()"
   ]
  },
  {
   "cell_type": "markdown",
   "metadata": {},
   "source": [
    "The datetime is not of particular use to me in its purest form, so I will create several new columns, and extract out more useful information, such as the day of the week, the minute in the day, and the day of the year. "
   ]
  },
  {
   "cell_type": "code",
   "execution_count": 14,
   "metadata": {
    "scrolled": false
   },
   "outputs": [
    {
     "name": "stdout",
     "output_type": "stream",
     "text": [
      "<class 'pandas.core.frame.DataFrame'>\n",
      "Int64Index: 7198443 entries, 641875 to 71121156\n",
      "Data columns (total 6 columns):\n",
      " #   Column           Dtype\n",
      "---  ------           -----\n",
      " 0   station_id       int32\n",
      " 1   bikes_available  int32\n",
      " 2   dayofweek        int32\n",
      " 3   min_in_day       int32\n",
      " 4   dayofyear        int32\n",
      " 5   year             int32\n",
      "dtypes: int32(6)\n",
      "memory usage: 219.7 MB\n"
     ]
    }
   ],
   "source": [
    "#break down the datetime into its individual features and drop the original datetime\n",
    "status['dayofweek'] = status['time'].dt.dayofweek\n",
    "status['min_in_day'] = status['time'].dt.hour * 60 + status['time'].dt.minute\n",
    "status['dayofyear'] = status['time'].dt.dayofyear\n",
    "status['year'] = status['time'].dt.year\n",
    "\n",
    "status.drop('time', axis = 1, inplace = True)\n",
    "\n",
    "status = status.astype(int)\n",
    "\n",
    "status.info()"
   ]
  },
  {
   "cell_type": "markdown",
   "metadata": {},
   "source": [
    "## 1.4 Merging Dataframes\n",
    "Now that the three dataframes are cleaned up, I can merge the status and weather frames on day of year and year, and the status and station dataframes on station id."
   ]
  },
  {
   "cell_type": "code",
   "execution_count": 15,
   "metadata": {
    "scrolled": false
   },
   "outputs": [],
   "source": [
    "#merge status and weather dfs on 'dayofyear' and 'year'. \n",
    "status = status.merge(weather_drop, how = 'left', on = ['dayofyear', 'year'])\n",
    "\n",
    "#merge status and stations dfs on station_id\n",
    "status = status.merge(stations, how = 'left', on = 'station_id')"
   ]
  },
  {
   "cell_type": "code",
   "execution_count": 16,
   "metadata": {},
   "outputs": [],
   "source": [
    "#write the full merged dataframe to a csv\n",
    "#status.to_csv('status_stn_wx_full.csv')"
   ]
  },
  {
   "cell_type": "code",
   "execution_count": 17,
   "metadata": {},
   "outputs": [
    {
     "name": "stdout",
     "output_type": "stream",
     "text": [
      "<class 'pandas.core.frame.DataFrame'>\n",
      "Int64Index: 7198443 entries, 0 to 7198442\n",
      "Data columns (total 12 columns):\n",
      " #   Column                Dtype  \n",
      "---  ------                -----  \n",
      " 0   station_id            int32  \n",
      " 1   bikes_available       int32  \n",
      " 2   dayofweek             int32  \n",
      " 3   min_in_day            int32  \n",
      " 4   dayofyear             int32  \n",
      " 5   year                  int32  \n",
      " 6   mean_temperature_f    int32  \n",
      " 7   precipitation_inches  float64\n",
      " 8   mean_wind_speed_mph   int32  \n",
      " 9   lat                   float64\n",
      " 10  long                  float64\n",
      " 11  dock_count            int32  \n",
      "dtypes: float64(3), int32(9)\n",
      "memory usage: 466.8 MB\n"
     ]
    }
   ],
   "source": [
    "status.info()"
   ]
  },
  {
   "cell_type": "markdown",
   "metadata": {},
   "source": [
    "# 2 Exploratory Data Analysis\n",
    "\n",
    "I want to look at a few of the variables in the compiled dataset, to see if they have a meaningful impact on the desired output variable. I'll do this using pyplot, in matplotlib. "
   ]
  },
  {
   "cell_type": "code",
   "execution_count": 18,
   "metadata": {},
   "outputs": [],
   "source": [
    "import matplotlib.pyplot as plt"
   ]
  },
  {
   "cell_type": "markdown",
   "metadata": {},
   "source": [
    "The first thing I want to do is group by day of week, and see to what degree that impacts usage of the bikes."
   ]
  },
  {
   "cell_type": "code",
   "execution_count": 20,
   "metadata": {},
   "outputs": [
    {
     "data": {
      "text/plain": [
       "[<matplotlib.lines.Line2D at 0x1768088c048>]"
      ]
     },
     "execution_count": 20,
     "metadata": {},
     "output_type": "execute_result"
    },
    {
     "data": {
      "image/png": "[encoded data removed]",
      "text/plain": [
       "<Figure size 432x288 with 1 Axes>"
      ]
     },
     "metadata": {
      "needs_background": "light"
     },
     "output_type": "display_data"
    }
   ],
   "source": [
    "#plot differences in bike availability by day of the week\n",
    "plt.plot(status.groupby(\"dayofweek\").bikes_available.mean())"
   ]
  },
  {
   "cell_type": "markdown",
   "metadata": {},
   "source": [
    "It looks like the day of the week does have an effect, although not as large as I was expecting. I assume this is due to the fact that generally, for most of the day, bikes are not in use almost at all. The periods of highest usage are probably relatively short.\n",
    "\n",
    "Next, I want to see the distribution of available bike values, as well as the median and standard deviation values. This will give me some idea of what constitutes a \"good\" result from the algorithm."
   ]
  },
  {
   "cell_type": "code",
   "execution_count": 21,
   "metadata": {},
   "outputs": [
    {
     "data": {
      "text/plain": [
       "<matplotlib.lines.Line2D at 0x17681bf6f48>"
      ]
     },
     "execution_count": 21,
     "metadata": {},
     "output_type": "execute_result"
    },
    {
     "data": {
      "image/png": "[encoded data removed]",
      "text/plain": [
       "<Figure size 432x288 with 1 Axes>"
      ]
     },
     "metadata": {
      "needs_background": "light"
     },
     "output_type": "display_data"
    }
   ],
   "source": [
    "#plot the histogram of bike availabilities at all stations\n",
    "plt.hist(status[\"bikes_available\"], bins = (status[\"bikes_available\"].max() + 1))\n",
    "plt.axvline(status[\"bikes_available\"].median(), color = 'red')\n",
    "plt.axvline(status[\"bikes_available\"].median() + status[\"bikes_available\"].std(), color = 'yellow')\n",
    "plt.axvline(status[\"bikes_available\"].median() - status[\"bikes_available\"].std(), color = 'yellow')"
   ]
  },
  {
   "cell_type": "markdown",
   "metadata": {},
   "source": [
    "The values appear to be nicely distributed. Next, I want to seek how bike availability fluctuates over the course of the day. I'll do this by grouping by minute in day, the taking the mean of teh bikes available, and plotting it."
   ]
  },
  {
   "cell_type": "code",
   "execution_count": 22,
   "metadata": {},
   "outputs": [
    {
     "data": {
      "text/plain": [
       "[<matplotlib.lines.Line2D at 0x17681c72b88>]"
      ]
     },
     "execution_count": 22,
     "metadata": {},
     "output_type": "execute_result"
    },
    {
     "data": {
      "image/png": "[encoded data removed]",
      "text/plain": [
       "<Figure size 432x288 with 1 Axes>"
      ]
     },
     "metadata": {
      "needs_background": "light"
     },
     "output_type": "display_data"
    }
   ],
   "source": [
    "#plot how biek avavilability changes over the course of the day\n",
    "plt.plot(status.groupby([\"min_in_day\"])[\"bikes_available\"].mean())"
   ]
  },
  {
   "cell_type": "markdown",
   "metadata": {},
   "source": [
    "Again, it looks like the time of day will provide useful information to out algorithm. Lastly, I want to check to see how much day of the year impacts usage. To do this, I will group by the day of the year, and take the mean of the bikes available at all stations."
   ]
  },
  {
   "cell_type": "code",
   "execution_count": 23,
   "metadata": {},
   "outputs": [
    {
     "data": {
      "text/plain": [
       "[<matplotlib.lines.Line2D at 0x17681c40d88>]"
      ]
     },
     "execution_count": 23,
     "metadata": {},
     "output_type": "execute_result"
    },
    {
     "data": {
      "image/png": "[encoded data removed]",
      "text/plain": [
       "<Figure size 432x288 with 1 Axes>"
      ]
     },
     "metadata": {
      "needs_background": "light"
     },
     "output_type": "display_data"
    }
   ],
   "source": [
    "##plot differences in bike availability by day of the year\n",
    "plt.plot(status.groupby(\"dayofyear\").bikes_available.mean())"
   ]
  },
  {
   "cell_type": "markdown",
   "metadata": {},
   "source": [
    "While this variable did not impact availability as much as I expected, it will still provide useful information for the algorithm."
   ]
  },
  {
   "cell_type": "markdown",
   "metadata": {},
   "source": [
    "# 3 Data Preprocessing\n",
    "To prepare the data for the ML algorithm, I will do a few trasformations. First, I'll scale all the input variables that are not one-hot encoded using the scikit-learn standard scaler. Next, I'll create a train-test split, so that a portion of the data can be set aside to assess the goodness of fit of the model."
   ]
  },
  {
   "cell_type": "code",
   "execution_count": 24,
   "metadata": {
    "scrolled": true
   },
   "outputs": [],
   "source": [
    "from sklearn.model_selection import train_test_split\n",
    "from sklearn.preprocessing import StandardScaler"
   ]
  },
  {
   "cell_type": "code",
   "execution_count": 25,
   "metadata": {},
   "outputs": [],
   "source": [
    "#take a sample of size sample_size from status_merge to do test runs on ML model\n",
    "#using the same var name so that this cell can be easily removed for a full run\n",
    "sample_size = 1250000\n",
    "status = status.sample(n = sample_size, random_state = 42)"
   ]
  },
  {
   "cell_type": "code",
   "execution_count": 26,
   "metadata": {},
   "outputs": [],
   "source": [
    "#instantiate standard scaler\n",
    "scaler = StandardScaler()"
   ]
  },
  {
   "cell_type": "code",
   "execution_count": 27,
   "metadata": {},
   "outputs": [],
   "source": [
    "#scale min_in_day, lat, long, and dock_count cols\n",
    "status[['mean_temperature_f','precipitation_inches', 'mean_wind_speed_mph', 'lat', 'long', 'dock_count', 'min_in_day', 'dayofyear']] = scaler.fit_transform(status[['mean_temperature_f','precipitation_inches', 'mean_wind_speed_mph', 'lat', 'long', 'dock_count', 'min_in_day', 'dayofyear']])"
   ]
  },
  {
   "cell_type": "code",
   "execution_count": 28,
   "metadata": {
    "scrolled": false
   },
   "outputs": [],
   "source": [
    "#convert station_id and year to categeoricals, then one-hot encode them\n",
    "status[['station_id', 'year', 'dayofweek']] = status[['station_id', 'year', 'dayofweek']] .astype('category')\n",
    "status = pd.get_dummies(status)"
   ]
  },
  {
   "cell_type": "code",
   "execution_count": 29,
   "metadata": {
    "scrolled": true
   },
   "outputs": [],
   "source": [
    "#create X and y\n",
    "bikes = status['bikes_available']\n",
    "status = status.drop('bikes_available', axis = 1)"
   ]
  },
  {
   "cell_type": "code",
   "execution_count": 30,
   "metadata": {
    "scrolled": false
   },
   "outputs": [],
   "source": [
    "bikes = bikes.values\n",
    "status = status.values"
   ]
  },
  {
   "cell_type": "code",
   "execution_count": 31,
   "metadata": {
    "scrolled": true
   },
   "outputs": [],
   "source": [
    "#find the shape of X_scale to use as the input dimension, asigning the length and width to l and w\n",
    "l, w = status.shape"
   ]
  },
  {
   "cell_type": "code",
   "execution_count": 32,
   "metadata": {
    "scrolled": true
   },
   "outputs": [],
   "source": [
    "#create a train/test split of the data set being used in the model\n",
    "X_train, X_test, y_train, y_test = train_test_split(status, bikes, test_size = 0.2, random_state = 21)"
   ]
  },
  {
   "cell_type": "markdown",
   "metadata": {},
   "source": [
    "# 4 Create Neural Net ML Model\n",
    "\n",
    "To create the model that is most powerful, I will use RandomizedSearchCV, varying the number of dense layers, and the number of neurons in each layer. I'll have the search train each version over five epochs. Having run other iterations of an ML model on this data before, five seems like enough time to get a decent idea of how good the model is. "
   ]
  },
  {
   "cell_type": "code",
   "execution_count": null,
   "metadata": {},
   "outputs": [],
   "source": [
    "#import necessary elements of ML model\n",
    "from keras.models import Sequential\n",
    "from keras.layers import Dense\n",
    "from keras.callbacks import EarlyStopping\n",
    "from keras.wrappers.scikit_learn import KerasRegressor\n",
    "from sklearn.model_selection import train_test_split, cross_val_score, RandomizedSearchCV"
   ]
  },
  {
   "cell_type": "code",
   "execution_count": 34,
   "metadata": {
    "scrolled": false
   },
   "outputs": [],
   "source": [
    "#define a function that creates a keras model with parameters optimizer, \n",
    "#activation, nl (number of layers), and nn (number of neurons)\n",
    "def create_model(opt = 'adam', act = 'relu', nl = 1, nn = 32):\n",
    "    model = Sequential()\n",
    "    model.add(Dense(nn, input_shape = (w,), activation = act))\n",
    "    for i in range(nl):\n",
    "        model.add(Dense(nn, activation = act))\n",
    "    model.add(Dense(1, activation = act))\n",
    "    model.compile(optimizer = opt, loss = 'mse', metrics = ['mse', 'mean_absolute_error'])\n",
    "    return model\n",
    "    \n",
    "#create model as an sklearn regressor\n",
    "model = KerasRegressor(build_fn = create_model, epochs = 5)\n",
    "\n",
    "#set params to search over\n",
    "params = dict(opt = ['adam'],\n",
    "              act = ['relu'],\n",
    "              nl = [1, 2, 3, 4],\n",
    "              nn = [32, 64, 128])"
   ]
  },
  {
   "cell_type": "code",
   "execution_count": 35,
   "metadata": {
    "scrolled": true
   },
   "outputs": [
    {
     "name": "stdout",
     "output_type": "stream",
     "text": [
      "WARNING:tensorflow:From C:\\Users\\dalli\\anaconda3\\envs\\Python ML\\lib\\site-packages\\keras\\backend\\tensorflow_backend.py:422: The name tf.global_variables is deprecated. Please use tf.compat.v1.global_variables instead.\n",
      "\n",
      "Epoch 1/5\n",
      "1000000/1000000 [==============================] - 28s 28us/step - loss: 10.1920 - mse: 10.1920 - mean_absolute_error: 2.4290\n",
      "Epoch 2/5\n",
      "1000000/1000000 [==============================] - 28s 28us/step - loss: 9.2474 - mse: 9.2474 - mean_absolute_error: 2.3097\n",
      "Epoch 3/5\n",
      "1000000/1000000 [==============================] - 28s 28us/step - loss: 8.9249 - mse: 8.9249 - mean_absolute_error: 2.2659\n",
      "Epoch 4/5\n",
      "1000000/1000000 [==============================] - 28s 28us/step - loss: 8.6957 - mse: 8.6958 - mean_absolute_error: 2.2315\n",
      "Epoch 5/5\n",
      "1000000/1000000 [==============================] - 28s 28us/step - loss: 8.5097 - mse: 8.5097 - mean_absolute_error: 2.2046\n",
      "250000/250000 [==============================] - 3s 13us/step\n",
      "Epoch 1/5\n",
      "1000000/1000000 [==============================] - 28s 28us/step - loss: 10.0390 - mse: 10.0390 - mean_absolute_error: 2.4125\n",
      "Epoch 2/5\n",
      "1000000/1000000 [==============================] - 28s 28us/step - loss: 9.1389 - mse: 9.1389 - mean_absolute_error: 2.2954\n",
      "Epoch 3/5\n",
      "1000000/1000000 [==============================] - 27s 27us/step - loss: 8.8095 - mse: 8.8095 - mean_absolute_error: 2.2474\n",
      "Epoch 4/5\n",
      "1000000/1000000 [==============================] - 28s 28us/step - loss: 8.5709 - mse: 8.5709 - mean_absolute_error: 2.2105\n",
      "Epoch 5/5\n",
      "1000000/1000000 [==============================] - 27s 27us/step - loss: 8.3761 - mse: 8.3761 - mean_absolute_error: 2.1821\n",
      "250000/250000 [==============================] - 3s 13us/step\n",
      "Epoch 1/5\n",
      "1000000/1000000 [==============================] - 30s 30us/step - loss: 10.0017 - mse: 10.0018 - mean_absolute_error: 2.4052\n",
      "Epoch 2/5\n",
      "1000000/1000000 [==============================] - 29s 29us/step - loss: 9.0828 - mse: 9.0828 - mean_absolute_error: 2.2856\n",
      "Epoch 3/5\n",
      "1000000/1000000 [==============================] - 30s 30us/step - loss: 8.7735 - mse: 8.7735 - mean_absolute_error: 2.2423\n",
      "Epoch 4/5\n",
      "1000000/1000000 [==============================] - 31s 31us/step - loss: 8.5555 - mse: 8.5556 - mean_absolute_error: 2.2100\n",
      "Epoch 5/5\n",
      "1000000/1000000 [==============================] - 29s 29us/step - loss: 8.3757 - mse: 8.3757 - mean_absolute_error: 2.1828\n",
      "250000/250000 [==============================] - 3s 13us/step\n",
      "Epoch 1/5\n",
      "1000000/1000000 [==============================] - 30s 30us/step - loss: 10.1220 - mse: 10.1220 - mean_absolute_error: 2.4210\n",
      "Epoch 2/5\n",
      "1000000/1000000 [==============================] - 30s 30us/step - loss: 9.1283 - mse: 9.1283 - mean_absolute_error: 2.2915\n",
      "Epoch 3/5\n",
      "1000000/1000000 [==============================] - 31s 31us/step - loss: 8.8112 - mse: 8.8112 - mean_absolute_error: 2.2437\n",
      "Epoch 4/5\n",
      "1000000/1000000 [==============================] - 35s 35us/step - loss: 8.5929 - mse: 8.5929 - mean_absolute_error: 2.2118\n",
      "Epoch 5/5\n",
      "1000000/1000000 [==============================] - 35s 35us/step - loss: 8.4336 - mse: 8.4336 - mean_absolute_error: 2.1865\n",
      "250000/250000 [==============================] - 4s 16us/step\n",
      "Epoch 1/5\n",
      "1000000/1000000 [==============================] - 37s 37us/step - loss: 10.0644 - mse: 10.0643 - mean_absolute_error: 2.4166\n",
      "Epoch 2/5\n",
      "1000000/1000000 [==============================] - 37s 37us/step - loss: 9.1413 - mse: 9.1413 - mean_absolute_error: 2.2957\n",
      "Epoch 3/5\n",
      "1000000/1000000 [==============================] - 37s 37us/step - loss: 8.8228 - mse: 8.8228 - mean_absolute_error: 2.2485\n",
      "Epoch 4/5\n",
      "1000000/1000000 [==============================] - 30s 30us/step - loss: 8.5958 - mse: 8.5958 - mean_absolute_error: 2.2140\n",
      "Epoch 5/5\n",
      "1000000/1000000 [==============================] - 29s 29us/step - loss: 8.4035 - mse: 8.4034 - mean_absolute_error: 2.1846\n",
      "250000/250000 [==============================] - 4s 15us/step\n",
      "Epoch 1/5\n",
      "1000000/1000000 [==============================] - 31s 31us/step - loss: 10.3249 - mse: 10.3249 - mean_absolute_error: 2.4492\n",
      "Epoch 2/5\n",
      "1000000/1000000 [==============================] - 33s 33us/step - loss: 9.3991 - mse: 9.3992 - mean_absolute_error: 2.3332\n",
      "Epoch 3/5\n",
      "1000000/1000000 [==============================] - 32s 32us/step - loss: 9.1680 - mse: 9.1680 - mean_absolute_error: 2.3007\n",
      "Epoch 4/5\n",
      "1000000/1000000 [==============================] - 35s 35us/step - loss: 9.0247 - mse: 9.0247 - mean_absolute_error: 2.2793\n",
      "Epoch 5/5\n",
      "1000000/1000000 [==============================] - 35s 35us/step - loss: 8.9203 - mse: 8.9203 - mean_absolute_error: 2.2633\n",
      "250000/250000 [==============================] - 4s 16us/step\n",
      "Epoch 1/5\n",
      "1000000/1000000 [==============================] - 36s 36us/step - loss: 10.3440 - mse: 10.3440 - mean_absolute_error: 2.4511\n",
      "Epoch 2/5\n",
      "1000000/1000000 [==============================] - 37s 37us/step - loss: 9.4329 - mse: 9.4329 - mean_absolute_error: 2.3379\n",
      "Epoch 3/5\n",
      "1000000/1000000 [==============================] - 36s 36us/step - loss: 9.1918 - mse: 9.1918 - mean_absolute_error: 2.3052\n",
      "Epoch 4/5\n",
      "1000000/1000000 [==============================] - 35s 35us/step - loss: 9.0439 - mse: 9.0439 - mean_absolute_error: 2.2835\n",
      "Epoch 5/5\n",
      "1000000/1000000 [==============================] - 36s 36us/step - loss: 8.9358 - mse: 8.9358 - mean_absolute_error: 2.2678\n",
      "250000/250000 [==============================] - 4s 17us/step\n",
      "Epoch 1/5\n",
      "1000000/1000000 [==============================] - 34s 34us/step - loss: 10.2675 - mse: 10.2675 - mean_absolute_error: 2.4425\n",
      "Epoch 2/5\n",
      "1000000/1000000 [==============================] - 34s 34us/step - loss: 9.4244 - mse: 9.4245 - mean_absolute_error: 2.3369\n",
      "Epoch 3/5\n",
      "1000000/1000000 [==============================] - 33s 33us/step - loss: 9.1992 - mse: 9.1993 - mean_absolute_error: 2.3066\n",
      "Epoch 4/5\n",
      "1000000/1000000 [==============================] - 32s 32us/step - loss: 9.0554 - mse: 9.0554 - mean_absolute_error: 2.2857\n",
      "Epoch 5/5\n",
      "1000000/1000000 [==============================] - 32s 32us/step - loss: 8.9454 - mse: 8.9454 - mean_absolute_error: 2.2697\n",
      "250000/250000 [==============================] - 4s 17us/step\n",
      "Epoch 1/5\n",
      "1000000/1000000 [==============================] - 32s 32us/step - loss: 10.3054 - mse: 10.3054 - mean_absolute_error: 2.4456\n",
      "Epoch 2/5\n",
      "1000000/1000000 [==============================] - 33s 33us/step - loss: 9.4494 - mse: 9.4494 - mean_absolute_error: 2.3383\n",
      "Epoch 3/5\n",
      "1000000/1000000 [==============================] - 34s 34us/step - loss: 9.2425 - mse: 9.2425 - mean_absolute_error: 2.3101 2s - loss: 9.24\n",
      "Epoch 4/5\n",
      "1000000/1000000 [==============================] - 34s 34us/step - loss: 9.1158 - mse: 9.1158 - mean_absolute_error: 2.2920\n",
      "Epoch 5/5\n",
      "1000000/1000000 [==============================] - 35s 35us/step - loss: 9.0224 - mse: 9.0224 - mean_absolute_error: 2.2784\n",
      "250000/250000 [==============================] - 4s 17us/step\n",
      "Epoch 1/5\n",
      "1000000/1000000 [==============================] - 42s 42us/step - loss: 10.3507 - mse: 10.3507 - mean_absolute_error: 2.4522\n",
      "Epoch 2/5\n",
      "1000000/1000000 [==============================] - 42s 42us/step - loss: 9.4488 - mse: 9.4488 - mean_absolute_error: 2.3382\n",
      "Epoch 3/5\n",
      "1000000/1000000 [==============================] - 36s 36us/step - loss: 9.2134 - mse: 9.2134 - mean_absolute_error: 2.3068\n",
      "Epoch 4/5\n",
      "1000000/1000000 [==============================] - 38s 38us/step - loss: 9.0499 - mse: 9.0500 - mean_absolute_error: 2.2833\n",
      "Epoch 5/5\n",
      "1000000/1000000 [==============================] - 38s 38us/step - loss: 8.9435 - mse: 8.9435 - mean_absolute_error: 2.2676\n",
      "250000/250000 [==============================] - 4s 17us/step\n",
      "Epoch 1/5\n",
      "1000000/1000000 [==============================] - 36s 36us/step - loss: 10.0433 - mse: 10.0434 - mean_absolute_error: 2.4130\n",
      "Epoch 2/5\n",
      "1000000/1000000 [==============================] - 36s 36us/step - loss: 9.1331 - mse: 9.1331 - mean_absolute_error: 2.2943\n",
      "Epoch 3/5\n",
      "1000000/1000000 [==============================] - 35s 35us/step - loss: 8.8302 - mse: 8.8302 - mean_absolute_error: 2.2509\n",
      "Epoch 4/5\n",
      "1000000/1000000 [==============================] - 36s 36us/step - loss: 8.6154 - mse: 8.6154 - mean_absolute_error: 2.2201\n",
      "Epoch 5/5\n",
      "1000000/1000000 [==============================] - 35s 35us/step - loss: 8.4419 - mse: 8.4419 - mean_absolute_error: 2.1946\n",
      "250000/250000 [==============================] - 5s 19us/step\n",
      "Epoch 1/5\n",
      "1000000/1000000 [==============================] - 35s 35us/step - loss: 10.0380 - mse: 10.0380 - mean_absolute_error: 2.4114\n",
      "Epoch 2/5\n",
      "1000000/1000000 [==============================] - 36s 36us/step - loss: 9.1237 - mse: 9.1237 - mean_absolute_error: 2.2922\n",
      "Epoch 3/5\n",
      "1000000/1000000 [==============================] - 37s 37us/step - loss: 8.8250 - mse: 8.8249 - mean_absolute_error: 2.2505\n",
      "Epoch 4/5\n",
      "1000000/1000000 [==============================] - 38s 38us/step - loss: 8.6149 - mse: 8.6148 - mean_absolute_error: 2.2196\n",
      "Epoch 5/5\n",
      "1000000/1000000 [==============================] - 36s 36us/step - loss: 8.4323 - mse: 8.4323 - mean_absolute_error: 2.1925\n",
      "250000/250000 [==============================] - 5s 19us/step\n",
      "Epoch 1/5\n",
      "1000000/1000000 [==============================] - 36s 36us/step - loss: 10.0753 - mse: 10.0753 - mean_absolute_error: 2.4162\n",
      "Epoch 2/5\n",
      "1000000/1000000 [==============================] - 36s 36us/step - loss: 9.1884 - mse: 9.1883 - mean_absolute_error: 2.3033\n",
      "Epoch 3/5\n",
      "1000000/1000000 [==============================] - 37s 37us/step - loss: 8.9028 - mse: 8.9028 - mean_absolute_error: 2.2644\n",
      "Epoch 4/5\n",
      "1000000/1000000 [==============================] - 37s 37us/step - loss: 8.7009 - mse: 8.7009 - mean_absolute_error: 2.2349\n",
      "Epoch 5/5\n",
      "1000000/1000000 [==============================] - 39s 39us/step - loss: 8.5415 - mse: 8.5416 - mean_absolute_error: 2.2117\n",
      "250000/250000 [==============================] - 6s 24us/step\n",
      "Epoch 1/5\n",
      "1000000/1000000 [==============================] - 40s 40us/step - loss: 10.1726 - mse: 10.1725 - mean_absolute_error: 2.4293\n",
      "Epoch 2/5\n",
      "1000000/1000000 [==============================] - 38s 38us/step - loss: 9.1720 - mse: 9.1719 - mean_absolute_error: 2.3010\n",
      "Epoch 3/5\n",
      "1000000/1000000 [==============================] - 38s 38us/step - loss: 8.8492 - mse: 8.8492 - mean_absolute_error: 2.2560\n",
      "Epoch 4/5\n",
      "1000000/1000000 [==============================] - 38s 38us/step - loss: 8.6365 - mse: 8.6365 - mean_absolute_error: 2.2253\n",
      "Epoch 5/5\n",
      "1000000/1000000 [==============================] - 39s 39us/step - loss: 8.4779 - mse: 8.4779 - mean_absolute_error: 2.2019\n",
      "250000/250000 [==============================] - 5s 20us/step\n",
      "Epoch 1/5\n",
      "1000000/1000000 [==============================] - 39s 39us/step - loss: 10.1581 - mse: 10.1581 - mean_absolute_error: 2.4264\n",
      "Epoch 2/5\n",
      "1000000/1000000 [==============================] - 39s 39us/step - loss: 9.1773 - mse: 9.1772 - mean_absolute_error: 2.3019\n",
      "Epoch 3/5\n",
      "1000000/1000000 [==============================] - 39s 39us/step - loss: 8.8753 - mse: 8.8753 - mean_absolute_error: 2.2582\n",
      "Epoch 4/5\n",
      "1000000/1000000 [==============================] - 39s 39us/step - loss: 8.6571 - mse: 8.6571 - mean_absolute_error: 2.2259\n",
      "Epoch 5/5\n",
      "1000000/1000000 [==============================] - 39s 39us/step - loss: 8.4890 - mse: 8.4890 - mean_absolute_error: 2.2007\n",
      "250000/250000 [==============================] - 5s 22us/step\n",
      "Epoch 1/5\n",
      "1000000/1000000 [==============================] - 37s 37us/step - loss: 10.3390 - mse: 10.3390 - mean_absolute_error: 2.4506\n",
      "Epoch 2/5\n",
      "1000000/1000000 [==============================] - 43s 43us/step - loss: 9.4428 - mse: 9.4428 - mean_absolute_error: 2.3403\n",
      "Epoch 3/5\n",
      "1000000/1000000 [==============================] - 37s 37us/step - loss: 9.2409 - mse: 9.2409 - mean_absolute_error: 2.3133\n",
      "Epoch 4/5\n",
      "1000000/1000000 [==============================] - 37s 37us/step - loss: 9.1265 - mse: 9.1265 - mean_absolute_error: 2.2970\n",
      "Epoch 5/5\n",
      "1000000/1000000 [==============================] - 38s 38us/step - loss: 9.0436 - mse: 9.0436 - mean_absolute_error: 2.2858\n",
      "250000/250000 [==============================] - 6s 25us/step\n",
      "Epoch 1/5\n",
      "1000000/1000000 [==============================] - 39s 39us/step - loss: 10.3156 - mse: 10.3157 - mean_absolute_error: 2.4490\n",
      "Epoch 2/5\n",
      "1000000/1000000 [==============================] - 39s 39us/step - loss: 9.4662 - mse: 9.4662 - mean_absolute_error: 2.3431\n",
      "Epoch 3/5\n",
      "1000000/1000000 [==============================] - 39s 39us/step - loss: 9.2467 - mse: 9.2467 - mean_absolute_error: 2.3126\n",
      "Epoch 4/5\n",
      "1000000/1000000 [==============================] - 39s 39us/step - loss: 9.1058 - mse: 9.1058 - mean_absolute_error: 2.2925\n",
      "Epoch 5/5\n",
      "1000000/1000000 [==============================] - 40s 40us/step - loss: 8.9952 - mse: 8.9951 - mean_absolute_error: 2.2764\n",
      "250000/250000 [==============================] - 5s 21us/step\n",
      "Epoch 1/5\n",
      "1000000/1000000 [==============================] - 39s 39us/step - loss: 10.3647 - mse: 10.3647 - mean_absolute_error: 2.4542\n",
      "Epoch 2/5\n",
      "1000000/1000000 [==============================] - 39s 39us/step - loss: 9.3974 - mse: 9.3975 - mean_absolute_error: 2.3331\n",
      "Epoch 3/5\n",
      "1000000/1000000 [==============================] - 39s 39us/step - loss: 9.1791 - mse: 9.1791 - mean_absolute_error: 2.3022\n",
      "Epoch 4/5\n",
      "1000000/1000000 [==============================] - 39s 39us/step - loss: 9.0397 - mse: 9.0397 - mean_absolute_error: 2.2827\n",
      "Epoch 5/5\n",
      "1000000/1000000 [==============================] - 39s 39us/step - loss: 8.9405 - mse: 8.9405 - mean_absolute_error: 2.2678\n",
      "250000/250000 [==============================] - 6s 22us/step\n",
      "Epoch 1/5\n",
      "1000000/1000000 [==============================] - 40s 40us/step - loss: 10.4731 - mse: 10.4731 - mean_absolute_error: 2.4660\n",
      "Epoch 2/5\n",
      "1000000/1000000 [==============================] - 40s 40us/step - loss: 9.5682 - mse: 9.5682 - mean_absolute_error: 2.3575\n",
      "Epoch 3/5\n",
      "1000000/1000000 [==============================] - 40s 40us/step - loss: 9.3688 - mse: 9.3688 - mean_absolute_error: 2.3319\n",
      "Epoch 4/5\n",
      "1000000/1000000 [==============================] - 40s 40us/step - loss: 9.2427 - mse: 9.2427 - mean_absolute_error: 2.3150\n",
      "Epoch 5/5\n",
      "1000000/1000000 [==============================] - 40s 40us/step - loss: 9.1510 - mse: 9.1510 - mean_absolute_error: 2.3020\n",
      "250000/250000 [==============================] - 5s 22us/step\n",
      "Epoch 1/5\n",
      "1000000/1000000 [==============================] - 41s 41us/step - loss: 10.3908 - mse: 10.3908 - mean_absolute_error: 2.4566\n",
      "Epoch 2/5\n",
      "1000000/1000000 [==============================] - 40s 40us/step - loss: 9.5068 - mse: 9.5068 - mean_absolute_error: 2.3475\n",
      "Epoch 3/5\n",
      "1000000/1000000 [==============================] - 41s 41us/step - loss: 9.2740 - mse: 9.2740 - mean_absolute_error: 2.3156\n",
      "Epoch 4/5\n",
      "1000000/1000000 [==============================] - 42s 42us/step - loss: 9.1300 - mse: 9.1300 - mean_absolute_error: 2.2952\n",
      "Epoch 5/5\n",
      "1000000/1000000 [==============================] - 44s 44us/step - loss: 9.0339 - mse: 9.0339 - mean_absolute_error: 2.2821\n",
      "250000/250000 [==============================] - 6s 25us/step\n",
      "Epoch 1/5\n",
      "1000000/1000000 [==============================] - 47s 47us/step - loss: 9.9831 - mse: 9.9831 - mean_absolute_error: 2.4053\n",
      "Epoch 2/5\n",
      "1000000/1000000 [==============================] - 47s 47us/step - loss: 9.0746 - mse: 9.0745 - mean_absolute_error: 2.2858\n",
      "Epoch 3/5\n",
      "1000000/1000000 [==============================] - 47s 47us/step - loss: 8.7548 - mse: 8.7548 - mean_absolute_error: 2.2393\n",
      "Epoch 4/5\n",
      "1000000/1000000 [==============================] - 48s 48us/step - loss: 8.5285 - mse: 8.5285 - mean_absolute_error: 2.2046\n",
      "Epoch 5/5\n",
      "1000000/1000000 [==============================] - 48s 48us/step - loss: 8.3458 - mse: 8.3458 - mean_absolute_error: 2.1776\n",
      "250000/250000 [==============================] - 9s 37us/step\n",
      "Epoch 1/5\n",
      "1000000/1000000 [==============================] - 51s 51us/step - loss: 10.0459 - mse: 10.0460 - mean_absolute_error: 2.4114\n",
      "Epoch 2/5\n",
      "1000000/1000000 [==============================] - 49s 49us/step - loss: 9.0660 - mse: 9.0660 - mean_absolute_error: 2.2837\n",
      "Epoch 3/5\n",
      "1000000/1000000 [==============================] - 49s 49us/step - loss: 8.7301 - mse: 8.7301 - mean_absolute_error: 2.2340\n",
      "Epoch 4/5\n",
      "1000000/1000000 [==============================] - 49s 49us/step - loss: 8.5035 - mse: 8.5034 - mean_absolute_error: 2.1996\n",
      "Epoch 5/5\n",
      "1000000/1000000 [==============================] - 49s 49us/step - loss: 8.3271 - mse: 8.3271 - mean_absolute_error: 2.1730\n"
     ]
    },
    {
     "name": "stdout",
     "output_type": "stream",
     "text": [
      "250000/250000 [==============================] - 7s 28us/step\n",
      "Epoch 1/5\n",
      "1000000/1000000 [==============================] - 52s 52us/step - loss: 9.9455 - mse: 9.9455 - mean_absolute_error: 2.3998\n",
      "Epoch 2/5\n",
      "1000000/1000000 [==============================] - 51s 51us/step - loss: 9.0410 - mse: 9.0410 - mean_absolute_error: 2.2803\n",
      "Epoch 3/5\n",
      "1000000/1000000 [==============================] - 51s 51us/step - loss: 8.7314 - mse: 8.7313 - mean_absolute_error: 2.2354\n",
      "Epoch 4/5\n",
      "1000000/1000000 [==============================] - 51s 51us/step - loss: 8.4949 - mse: 8.4950 - mean_absolute_error: 2.2006\n",
      "Epoch 5/5\n",
      "1000000/1000000 [==============================] - 52s 52us/step - loss: 8.3212 - mse: 8.3212 - mean_absolute_error: 2.1742\n",
      "250000/250000 [==============================] - 7s 29us/step\n",
      "Epoch 1/5\n",
      "1000000/1000000 [==============================] - 53s 53us/step - loss: 10.0358 - mse: 10.0358 - mean_absolute_error: 2.4098\n",
      "Epoch 2/5\n",
      "1000000/1000000 [==============================] - 52s 52us/step - loss: 9.0901 - mse: 9.0901 - mean_absolute_error: 2.2869\n",
      "Epoch 3/5\n",
      "1000000/1000000 [==============================] - 52s 52us/step - loss: 8.7638 - mse: 8.7638 - mean_absolute_error: 2.2418\n",
      "Epoch 4/5\n",
      "1000000/1000000 [==============================] - 52s 52us/step - loss: 8.5266 - mse: 8.5266 - mean_absolute_error: 2.2058\n",
      "Epoch 5/5\n",
      "1000000/1000000 [==============================] - 58s 58us/step - loss: 8.3382 - mse: 8.3382 - mean_absolute_error: 2.1769\n",
      "250000/250000 [==============================] - 7s 30us/step\n",
      "Epoch 1/5\n",
      "1000000/1000000 [==============================] - 54s 54us/step - loss: 10.1026 - mse: 10.1026 - mean_absolute_error: 2.4196\n",
      "Epoch 2/5\n",
      "1000000/1000000 [==============================] - 55s 55us/step - loss: 9.1110 - mse: 9.1110 - mean_absolute_error: 2.2909\n",
      "Epoch 3/5\n",
      "1000000/1000000 [==============================] - 54s 54us/step - loss: 8.7818 - mse: 8.7818 - mean_absolute_error: 2.2428\n",
      "Epoch 4/5\n",
      "1000000/1000000 [==============================] - 53s 53us/step - loss: 8.5592 - mse: 8.5592 - mean_absolute_error: 2.2080\n",
      "Epoch 5/5\n",
      "1000000/1000000 [==============================] - 53s 53us/step - loss: 8.3856 - mse: 8.3856 - mean_absolute_error: 2.1812\n",
      "250000/250000 [==============================] - 8s 30us/step\n",
      "Epoch 1/5\n",
      "1000000/1000000 [==============================] - 101s 101us/step - loss: 9.8203 - mse: 9.8203 - mean_absolute_error: 2.3822\n",
      "Epoch 2/5\n",
      "1000000/1000000 [==============================] - 100s 100us/step - loss: 8.7849 - mse: 8.7849 - mean_absolute_error: 2.2401s -\n",
      "Epoch 3/5\n",
      "1000000/1000000 [==============================] - 101s 101us/step - loss: 8.3041 - mse: 8.3041 - mean_absolute_error: 2.1679\n",
      "Epoch 4/5\n",
      "1000000/1000000 [==============================] - 102s 102us/step - loss: 7.9184 - mse: 7.9184 - mean_absolute_error: 2.1082\n",
      "Epoch 5/5\n",
      "1000000/1000000 [==============================] - 101s 101us/step - loss: 7.5833 - mse: 7.5833 - mean_absolute_error: 2.0557\n",
      "250000/250000 [==============================] - 10s 38us/step\n",
      "Epoch 1/5\n",
      "1000000/1000000 [==============================] - 104s 104us/step - loss: 9.7838 - mse: 9.7837 - mean_absolute_error: 2.3765\n",
      "Epoch 2/5\n",
      "1000000/1000000 [==============================] - 107s 107us/step - loss: 8.7494 - mse: 8.7494 - mean_absolute_error: 2.2337\n",
      "Epoch 3/5\n",
      "1000000/1000000 [==============================] - 103s 103us/step - loss: 8.2767 - mse: 8.2767 - mean_absolute_error: 2.1612\n",
      "Epoch 4/5\n",
      "1000000/1000000 [==============================] - 103s 103us/step - loss: 7.9065 - mse: 7.9065 - mean_absolute_error: 2.1031\n",
      "Epoch 5/5\n",
      "1000000/1000000 [==============================] - 103s 103us/step - loss: 7.5996 - mse: 7.5996 - mean_absolute_error: 2.0537\n",
      "250000/250000 [==============================] - 10s 41us/step\n",
      "Epoch 1/5\n",
      "1000000/1000000 [==============================] - 102s 102us/step - loss: 9.7751 - mse: 9.7751 - mean_absolute_error: 2.3764\n",
      "Epoch 2/5\n",
      "1000000/1000000 [==============================] - 103s 103us/step - loss: 8.7404 - mse: 8.7404 - mean_absolute_error: 2.2338\n",
      "Epoch 3/5\n",
      "1000000/1000000 [==============================] - 102s 102us/step - loss: 8.3034 - mse: 8.3034 - mean_absolute_error: 2.1665\n",
      "Epoch 4/5\n",
      "1000000/1000000 [==============================] - 102s 102us/step - loss: 7.9542 - mse: 7.9542 - mean_absolute_error: 2.1120\n",
      "Epoch 5/5\n",
      "1000000/1000000 [==============================] - 103s 103us/step - loss: 7.6418 - mse: 7.6418 - mean_absolute_error: 2.0621\n",
      "250000/250000 [==============================] - 14s 57us/step\n",
      "Epoch 1/5\n",
      "1000000/1000000 [==============================] - 109s 109us/step - loss: 9.8446 - mse: 9.8446 - mean_absolute_error: 2.3843\n",
      "Epoch 2/5\n",
      "1000000/1000000 [==============================] - 108s 108us/step - loss: 8.7726 - mse: 8.7726 - mean_absolute_error: 2.2370\n",
      "Epoch 3/5\n",
      "1000000/1000000 [==============================] - 108s 108us/step - loss: 8.2808 - mse: 8.2808 - mean_absolute_error: 2.1618\n",
      "Epoch 4/5\n",
      "1000000/1000000 [==============================] - 107s 107us/step - loss: 7.9231 - mse: 7.9231 - mean_absolute_error: 2.1072\n",
      "Epoch 5/5\n",
      "1000000/1000000 [==============================] - 107s 107us/step - loss: 7.6134 - mse: 7.6135 - mean_absolute_error: 2.0589\n",
      "250000/250000 [==============================] - 11s 44us/step\n",
      "Epoch 1/5\n",
      "1000000/1000000 [==============================] - 112s 112us/step - loss: 9.8662 - mse: 9.8662 - mean_absolute_error: 2.3886\n",
      "Epoch 2/5\n",
      "1000000/1000000 [==============================] - 114s 114us/step - loss: 8.8594 - mse: 8.8595 - mean_absolute_error: 2.2525\n",
      "Epoch 3/5\n",
      "1000000/1000000 [==============================] - 111s 111us/step - loss: 8.3953 - mse: 8.3953 - mean_absolute_error: 2.1826\n",
      "Epoch 4/5\n",
      "1000000/1000000 [==============================] - 111s 111us/step - loss: 8.0248 - mse: 8.0248 - mean_absolute_error: 2.1253\n",
      "Epoch 5/5\n",
      "1000000/1000000 [==============================] - 111s 111us/step - loss: 7.7125 - mse: 7.7125 - mean_absolute_error: 2.0762\n",
      "250000/250000 [==============================] - 11s 42us/step\n",
      "Epoch 1/5\n",
      "1000000/1000000 [==============================] - 51s 51us/step - loss: 10.5251 - mse: 10.5251 - mean_absolute_error: 2.4680\n",
      "Epoch 2/5\n",
      "1000000/1000000 [==============================] - 51s 51us/step - loss: 9.4664 - mse: 9.4664 - mean_absolute_error: 2.3409\n",
      "Epoch 3/5\n",
      "1000000/1000000 [==============================] - 51s 51us/step - loss: 9.2713 - mse: 9.2713 - mean_absolute_error: 2.3144\n",
      "Epoch 4/5\n",
      "1000000/1000000 [==============================] - 50s 50us/step - loss: 9.1512 - mse: 9.1512 - mean_absolute_error: 2.2979\n",
      "Epoch 5/5\n",
      "1000000/1000000 [==============================] - 50s 50us/step - loss: 9.0534 - mse: 9.0534 - mean_absolute_error: 2.2831\n",
      "250000/250000 [==============================] - 9s 36us/step\n",
      "Epoch 1/5\n",
      "1000000/1000000 [==============================] - 51s 51us/step - loss: 10.6606 - mse: 10.6606 - mean_absolute_error: 2.4875\n",
      "Epoch 2/5\n",
      "1000000/1000000 [==============================] - 56s 56us/step - loss: 9.5785 - mse: 9.5785 - mean_absolute_error: 2.3583\n",
      "Epoch 3/5\n",
      "1000000/1000000 [==============================] - 54s 54us/step - loss: 9.3604 - mse: 9.3604 - mean_absolute_error: 2.3294\n",
      "Epoch 4/5\n",
      "1000000/1000000 [==============================] - 56s 56us/step - loss: 9.2356 - mse: 9.2356 - mean_absolute_error: 2.3128\n",
      "Epoch 5/5\n",
      "1000000/1000000 [==============================] - 55s 55us/step - loss: 9.1508 - mse: 9.1508 - mean_absolute_error: 2.3006\n",
      "250000/250000 [==============================] - 13s 52us/step\n",
      "Epoch 1/5\n",
      "1000000/1000000 [==============================] - 53s 53us/step - loss: 10.4570 - mse: 10.4570 - mean_absolute_error: 2.4625\n",
      "Epoch 2/5\n",
      "1000000/1000000 [==============================] - 56s 56us/step - loss: 9.5416 - mse: 9.5416 - mean_absolute_error: 2.3558\n",
      "Epoch 3/5\n",
      "1000000/1000000 [==============================] - 58s 58us/step - loss: 9.3616 - mse: 9.3616 - mean_absolute_error: 2.3311\n",
      "Epoch 4/5\n",
      "1000000/1000000 [==============================] - 56s 56us/step - loss: 9.2455 - mse: 9.2455 - mean_absolute_error: 2.3148\n",
      "Epoch 5/5\n",
      "1000000/1000000 [==============================] - 55s 55us/step - loss: 9.1608 - mse: 9.1609 - mean_absolute_error: 2.3023 0s - loss: 9.1635 - mse: 9.1635 - mean_absol\n",
      "250000/250000 [==============================] - 9s 36us/step\n",
      "Epoch 1/5\n",
      "1000000/1000000 [==============================] - 57s 57us/step - loss: 10.5724 - mse: 10.5725 - mean_absolute_error: 2.4752\n",
      "Epoch 2/5\n",
      "1000000/1000000 [==============================] - 59s 59us/step - loss: 9.5395 - mse: 9.5395 - mean_absolute_error: 2.3521\n",
      "Epoch 3/5\n",
      "1000000/1000000 [==============================] - 59s 59us/step - loss: 9.3250 - mse: 9.3250 - mean_absolute_error: 2.3214\n",
      "Epoch 4/5\n",
      "1000000/1000000 [==============================] - 52s 52us/step - loss: 9.1860 - mse: 9.1860 - mean_absolute_error: 2.3018\n",
      "Epoch 5/5\n",
      "1000000/1000000 [==============================] - 53s 53us/step - loss: 9.0985 - mse: 9.0985 - mean_absolute_error: 2.2892\n",
      "250000/250000 [==============================] - 8s 33us/step\n",
      "Epoch 1/5\n",
      "1000000/1000000 [==============================] - 54s 54us/step - loss: 10.4742 - mse: 10.4742 - mean_absolute_error: 2.4662\n",
      "Epoch 2/5\n",
      "1000000/1000000 [==============================] - 58s 58us/step - loss: 9.5013 - mse: 9.5013 - mean_absolute_error: 2.3463\n",
      "Epoch 3/5\n",
      "1000000/1000000 [==============================] - 58s 58us/step - loss: 9.3061 - mse: 9.3060 - mean_absolute_error: 2.3192\n",
      "Epoch 4/5\n",
      "1000000/1000000 [==============================] - 58s 58us/step - loss: 9.1783 - mse: 9.1783 - mean_absolute_error: 2.3020\n",
      "Epoch 5/5\n",
      "1000000/1000000 [==============================] - 55s 55us/step - loss: 9.0814 - mse: 9.0814 - mean_absolute_error: 2.2879\n",
      "250000/250000 [==============================] - 9s 38us/step\n",
      "Epoch 1/5\n",
      "1000000/1000000 [==============================] - 66s 66us/step - loss: 10.3395 - mse: 10.3395 - mean_absolute_error: 2.4468\n",
      "Epoch 2/5\n",
      "1000000/1000000 [==============================] - 65s 65us/step - loss: 9.3668 - mse: 9.3668 - mean_absolute_error: 2.3279\n",
      "Epoch 3/5\n",
      "1000000/1000000 [==============================] - 66s 66us/step - loss: 9.1375 - mse: 9.1375 - mean_absolute_error: 2.2955\n",
      "Epoch 4/5\n",
      "1000000/1000000 [==============================] - 66s 66us/step - loss: 8.9974 - mse: 8.9974 - mean_absolute_error: 2.2749\n",
      "Epoch 5/5\n",
      "1000000/1000000 [==============================] - 64s 64us/step - loss: 8.8760 - mse: 8.8760 - mean_absolute_error: 2.2572\n",
      "250000/250000 [==============================] - 10s 40us/step\n",
      "Epoch 1/5\n",
      "1000000/1000000 [==============================] - 66s 66us/step - loss: 10.6847 - mse: 10.6846 - mean_absolute_error: 2.4882\n",
      "Epoch 2/5\n",
      "1000000/1000000 [==============================] - 67s 67us/step - loss: 9.4880 - mse: 9.4880 - mean_absolute_error: 2.3427\n",
      "Epoch 3/5\n",
      "1000000/1000000 [==============================] - 69s 69us/step - loss: 9.2107 - mse: 9.2106 - mean_absolute_error: 2.3046\n",
      "Epoch 4/5\n",
      "1000000/1000000 [==============================] - 67s 67us/step - loss: 9.0584 - mse: 9.0584 - mean_absolute_error: 2.2828\n",
      "Epoch 5/5\n",
      "1000000/1000000 [==============================] - 66s 66us/step - loss: 8.9407 - mse: 8.9407 - mean_absolute_error: 2.2649\n",
      "250000/250000 [==============================] - 10s 41us/step\n",
      "Epoch 1/5\n",
      "1000000/1000000 [==============================] - 70s 70us/step - loss: 10.2313 - mse: 10.2313 - mean_absolute_error: 2.4373 0s - loss: 10.2353 - mse: 10.2353 - mean_absolute_error:\n",
      "Epoch 2/5\n",
      "1000000/1000000 [==============================] - 67s 67us/step - loss: 9.3796 - mse: 9.3795 - mean_absolute_error: 2.3298\n",
      "Epoch 3/5\n",
      "1000000/1000000 [==============================] - 70s 70us/step - loss: 9.1599 - mse: 9.1599 - mean_absolute_error: 2.2980\n",
      "Epoch 4/5\n",
      "1000000/1000000 [==============================] - 69s 69us/step - loss: 9.0113 - mse: 9.0113 - mean_absolute_error: 2.2764\n",
      "Epoch 5/5\n",
      "1000000/1000000 [==============================] - 67s 67us/step - loss: 8.9050 - mse: 8.9050 - mean_absolute_error: 2.2596\n",
      "250000/250000 [==============================] - 13s 50us/step\n",
      "Epoch 1/5\n",
      "1000000/1000000 [==============================] - 77s 77us/step - loss: 10.3290 - mse: 10.3290 - mean_absolute_error: 2.4483\n",
      "Epoch 2/5\n",
      "1000000/1000000 [==============================] - 75s 75us/step - loss: 9.4077 - mse: 9.4076 - mean_absolute_error: 2.3332\n",
      "Epoch 3/5\n",
      "1000000/1000000 [==============================] - 75s 75us/step - loss: 9.1661 - mse: 9.1661 - mean_absolute_error: 2.2991\n",
      "Epoch 4/5\n",
      "1000000/1000000 [==============================] - 79s 79us/step - loss: 9.0238 - mse: 9.0239 - mean_absolute_error: 2.2790\n",
      "Epoch 5/5\n",
      "1000000/1000000 [==============================] - 80s 80us/step - loss: 8.9096 - mse: 8.9097 - mean_absolute_error: 2.2622\n",
      "250000/250000 [==============================] - 13s 50us/step\n",
      "Epoch 1/5\n",
      "1000000/1000000 [==============================] - 78s 78us/step - loss: 10.7919 - mse: 10.7919 - mean_absolute_error: 2.4839\n",
      "Epoch 2/5\n",
      "1000000/1000000 [==============================] - 71s 71us/step - loss: 9.4321 - mse: 9.4321 - mean_absolute_error: 2.3370\n",
      "Epoch 3/5\n",
      "1000000/1000000 [==============================] - 70s 70us/step - loss: 9.2269 - mse: 9.2269 - mean_absolute_error: 2.3085\n",
      "Epoch 4/5\n",
      "1000000/1000000 [==============================] - 70s 70us/step - loss: 9.0805 - mse: 9.0805 - mean_absolute_error: 2.2876\n",
      "Epoch 5/5\n",
      "1000000/1000000 [==============================] - 70s 70us/step - loss: 8.9670 - mse: 8.9670 - mean_absolute_error: 2.2711\n",
      "250000/250000 [==============================] - 13s 51us/step\n",
      "Epoch 1/5\n",
      "1000000/1000000 [==============================] - 72s 72us/step - loss: 10.1039 - mse: 10.1039 - mean_absolute_error: 2.4211\n",
      "Epoch 2/5\n",
      "1000000/1000000 [==============================] - 67s 67us/step - loss: 9.2292 - mse: 9.2292 - mean_absolute_error: 2.3100\n",
      "Epoch 3/5\n",
      "1000000/1000000 [==============================] - 66s 66us/step - loss: 8.9722 - mse: 8.9722 - mean_absolute_error: 2.2735\n",
      "Epoch 4/5\n",
      "1000000/1000000 [==============================] - 69s 69us/step - loss: 8.8037 - mse: 8.8038 - mean_absolute_error: 2.2480\n",
      "Epoch 5/5\n",
      "1000000/1000000 [==============================] - 70s 70us/step - loss: 8.6728 - mse: 8.6727 - mean_absolute_error: 2.2293\n",
      "250000/250000 [==============================] - 12s 48us/step\n",
      "Epoch 1/5\n",
      "1000000/1000000 [==============================] - 67s 67us/step - loss: 10.1627 - mse: 10.1628 - mean_absolute_error: 2.4280\n",
      "Epoch 2/5\n",
      "1000000/1000000 [==============================] - 66s 66us/step - loss: 9.2329 - mse: 9.2329 - mean_absolute_error: 2.3096\n",
      "Epoch 3/5\n",
      "1000000/1000000 [==============================] - 67s 67us/step - loss: 8.9620 - mse: 8.9620 - mean_absolute_error: 2.2717\n",
      "Epoch 4/5\n",
      "1000000/1000000 [==============================] - 66s 66us/step - loss: 8.7948 - mse: 8.7948 - mean_absolute_error: 2.2467\n",
      "Epoch 5/5\n",
      "1000000/1000000 [==============================] - 70s 70us/step - loss: 8.6588 - mse: 8.6588 - mean_absolute_error: 2.2265\n",
      "250000/250000 [==============================] - 14s 57us/step\n",
      "Epoch 1/5\n",
      "1000000/1000000 [==============================] - 72s 72us/step - loss: 10.1874 - mse: 10.1874 - mean_absolute_error: 2.4297\n",
      "Epoch 2/5\n",
      "1000000/1000000 [==============================] - 68s 68us/step - loss: 9.2174 - mse: 9.2174 - mean_absolute_error: 2.3043\n",
      "Epoch 3/5\n",
      "1000000/1000000 [==============================] - 66s 66us/step - loss: 8.9417 - mse: 8.9417 - mean_absolute_error: 2.2646\n",
      "Epoch 4/5\n",
      "1000000/1000000 [==============================] - 73s 73us/step - loss: 8.7653 - mse: 8.7653 - mean_absolute_error: 2.2394\n",
      "Epoch 5/5\n",
      "1000000/1000000 [==============================] - 70s 70us/step - loss: 8.6366 - mse: 8.6366 - mean_absolute_error: 2.2202\n",
      "250000/250000 [==============================] - 12s 48us/step\n",
      "Epoch 1/5\n",
      "1000000/1000000 [==============================] - 68s 68us/step - loss: 10.2143 - mse: 10.2143 - mean_absolute_error: 2.4310\n",
      "Epoch 2/5\n",
      "1000000/1000000 [==============================] - 68s 68us/step - loss: 9.2504 - mse: 9.2504 - mean_absolute_error: 2.3096\n",
      "Epoch 3/5\n",
      "1000000/1000000 [==============================] - 68s 68us/step - loss: 8.9857 - mse: 8.9856 - mean_absolute_error: 2.2724\n",
      "Epoch 4/5\n",
      "1000000/1000000 [==============================] - 72s 72us/step - loss: 8.7991 - mse: 8.7991 - mean_absolute_error: 2.2451\n",
      "Epoch 5/5\n",
      "1000000/1000000 [==============================] - 68s 68us/step - loss: 8.6601 - mse: 8.6601 - mean_absolute_error: 2.2244\n"
     ]
    },
    {
     "name": "stdout",
     "output_type": "stream",
     "text": [
      "250000/250000 [==============================] - 15s 58us/step\n",
      "Epoch 1/5\n",
      "1000000/1000000 [==============================] - 67s 67us/step - loss: 10.2255 - mse: 10.2255 - mean_absolute_error: 2.4358\n",
      "Epoch 2/5\n",
      "1000000/1000000 [==============================] - 67s 67us/step - loss: 9.3009 - mse: 9.3009 - mean_absolute_error: 2.3198\n",
      "Epoch 3/5\n",
      "1000000/1000000 [==============================] - 66s 66us/step - loss: 9.0458 - mse: 9.0459 - mean_absolute_error: 2.2841\n",
      "Epoch 4/5\n",
      "1000000/1000000 [==============================] - 70s 70us/step - loss: 8.8645 - mse: 8.8645 - mean_absolute_error: 2.2576\n",
      "Epoch 5/5\n",
      "1000000/1000000 [==============================] - 68s 68us/step - loss: 8.7142 - mse: 8.7142 - mean_absolute_error: 2.2363\n",
      "250000/250000 [==============================] - 11s 44us/step\n",
      "Epoch 1/5\n",
      "1000000/1000000 [==============================] - 121s 121us/step - loss: 9.8418 - mse: 9.8417 - mean_absolute_error: 2.3849\n",
      "Epoch 2/5\n",
      "1000000/1000000 [==============================] - 136s 136us/step - loss: 8.8128 - mse: 8.8128 - mean_absolute_error: 2.2453\n",
      "Epoch 3/5\n",
      "1000000/1000000 [==============================] - 151s 151us/step - loss: 8.3592 - mse: 8.3593 - mean_absolute_error: 2.1773\n",
      "Epoch 4/5\n",
      "1000000/1000000 [==============================] - 149s 149us/step - loss: 8.0093 - mse: 8.0093 - mean_absolute_error: 2.1239\n",
      "Epoch 5/5\n",
      "1000000/1000000 [==============================] - 153s 153us/step - loss: 7.6998 - mse: 7.6998 - mean_absolute_error: 2.0774\n",
      "250000/250000 [==============================] - 20s 81us/step\n",
      "Epoch 1/5\n",
      "1000000/1000000 [==============================] - 159s 159us/step - loss: 9.8233 - mse: 9.8233 - mean_absolute_error: 2.3840\n",
      "Epoch 2/5\n",
      "1000000/1000000 [==============================] - 155s 155us/step - loss: 8.8723 - mse: 8.8723 - mean_absolute_error: 2.2561\n",
      "Epoch 3/5\n",
      "1000000/1000000 [==============================] - 155s 155us/step - loss: 8.4502 - mse: 8.4502 - mean_absolute_error: 2.1936\n",
      "Epoch 4/5\n",
      "1000000/1000000 [==============================] - 140s 140us/step - loss: 8.1287 - mse: 8.1287 - mean_absolute_error: 2.1443\n",
      "Epoch 5/5\n",
      "1000000/1000000 [==============================] - 143s 143us/step - loss: 7.8511 - mse: 7.8511 - mean_absolute_error: 2.1022\n",
      "250000/250000 [==============================] - 20s 80us/step\n",
      "Epoch 1/5\n",
      "1000000/1000000 [==============================] - 144s 144us/step - loss: 9.8334 - mse: 9.8334 - mean_absolute_error: 2.3847\n",
      "Epoch 2/5\n",
      "1000000/1000000 [==============================] - 139s 139us/step - loss: 8.7877 - mse: 8.7877 - mean_absolute_error: 2.2414\n",
      "Epoch 3/5\n",
      "1000000/1000000 [==============================] - 139s 139us/step - loss: 8.3331 - mse: 8.3331 - mean_absolute_error: 2.1721\n",
      "Epoch 4/5\n",
      "1000000/1000000 [==============================] - 138s 138us/step - loss: 7.9883 - mse: 7.9883 - mean_absolute_error: 2.1191\n",
      "Epoch 5/5\n",
      "1000000/1000000 [==============================] - 138s 138us/step - loss: 7.6956 - mse: 7.6956 - mean_absolute_error: 2.0734\n",
      "250000/250000 [==============================] - 19s 76us/step\n",
      "Epoch 1/5\n",
      "1000000/1000000 [==============================] - 152s 152us/step - loss: 9.9062 - mse: 9.9062 - mean_absolute_error: 2.3926\n",
      "Epoch 2/5\n",
      "1000000/1000000 [==============================] - 144s 144us/step - loss: 8.8575 - mse: 8.8575 - mean_absolute_error: 2.2515\n",
      "Epoch 3/5\n",
      "1000000/1000000 [==============================] - 137s 137us/step - loss: 8.4126 - mse: 8.4126 - mean_absolute_error: 2.1867\n",
      "Epoch 4/5\n",
      "1000000/1000000 [==============================] - 135s 135us/step - loss: 8.0745 - mse: 8.0744 - mean_absolute_error: 2.1348\n",
      "Epoch 5/5\n",
      "1000000/1000000 [==============================] - 133s 133us/step - loss: 7.7887 - mse: 7.7887 - mean_absolute_error: 2.0910\n",
      "250000/250000 [==============================] - 14s 57us/step\n",
      "Epoch 1/5\n",
      "1000000/1000000 [==============================] - 144s 144us/step - loss: 9.9402 - mse: 9.9402 - mean_absolute_error: 2.3999\n",
      "Epoch 2/5\n",
      "1000000/1000000 [==============================] - 139s 139us/step - loss: 8.8980 - mse: 8.8980 - mean_absolute_error: 2.2604\n",
      "Epoch 3/5\n",
      "1000000/1000000 [==============================] - 137s 137us/step - loss: 8.4574 - mse: 8.4574 - mean_absolute_error: 2.1963\n",
      "Epoch 4/5\n",
      "1000000/1000000 [==============================] - 137s 137us/step - loss: 8.1160 - mse: 8.1160 - mean_absolute_error: 2.1459\n",
      "Epoch 5/5\n",
      "1000000/1000000 [==============================] - 137s 137us/step - loss: 7.8279 - mse: 7.8279 - mean_absolute_error: 2.1023\n",
      "250000/250000 [==============================] - 15s 59us/step\n",
      "Epoch 1/5\n",
      "1250000/1250000 [==============================] - 240s 192us/step - loss: 9.6257 - mse: 9.6258 - mean_absolute_error: 2.3552\n",
      "Epoch 2/5\n",
      "1250000/1250000 [==============================] - 239s 191us/step - loss: 8.5400 - mse: 8.5400 - mean_absolute_error: 2.2030\n",
      "Epoch 3/5\n",
      "1250000/1250000 [==============================] - 240s 192us/step - loss: 8.0224 - mse: 8.0224 - mean_absolute_error: 2.1235\n",
      "Epoch 4/5\n",
      "1250000/1250000 [==============================] - 238s 190us/step - loss: 7.5944 - mse: 7.5944 - mean_absolute_error: 2.0562\n",
      "Epoch 5/5\n",
      "1250000/1250000 [==============================] - 237s 190us/step - loss: 7.2426 - mse: 7.2426 - mean_absolute_error: 1.9997\n"
     ]
    }
   ],
   "source": [
    "#create random search cv object\n",
    "random_search = RandomizedSearchCV(model, param_distributions = params, cv = 5, n_iter = 10)\n",
    "\n",
    "random_search_results = random_search.fit(status, bikes)"
   ]
  },
  {
   "cell_type": "markdown",
   "metadata": {},
   "source": [
    "Now I will assign the dictionary containing the optimal results of the randomized hyperparameter search to the variable \"final_params,\" and will use this dictionary to assign teh hyperparameters to a full run of the algorithm, with as many as 25 epochs (although I will include and early stop callback, should overfitting become an issue)."
   ]
  },
  {
   "cell_type": "code",
   "execution_count": 36,
   "metadata": {
    "scrolled": false
   },
   "outputs": [
    {
     "data": {
      "text/plain": [
       "-7.629191804406737"
      ]
     },
     "execution_count": 36,
     "metadata": {},
     "output_type": "execute_result"
    }
   ],
   "source": [
    "#print the best score obtained from the RandomizedSearchCV\n",
    "random_search_results.best_score_"
   ]
  },
  {
   "cell_type": "code",
   "execution_count": 77,
   "metadata": {
    "scrolled": false
   },
   "outputs": [
    {
     "name": "stdout",
     "output_type": "stream",
     "text": [
      "{'opt': 'adam', 'nn': 128, 'nl': 4, 'act': 'relu'}\n"
     ]
    }
   ],
   "source": [
    "#assign the best set of parameters to final_params\n",
    "final_params = random_search_results.best_params_\n",
    "print(final_params)"
   ]
  },
  {
   "cell_type": "code",
   "execution_count": 38,
   "metadata": {
    "scrolled": false
   },
   "outputs": [
    {
     "name": "stdout",
     "output_type": "stream",
     "text": [
      "Train on 800000 samples, validate on 200000 samples\n",
      "Epoch 1/25\n",
      "800000/800000 [==============================] - 69s 86us/step - loss: 10.7161 - mse: 10.7160 - mean_absolute_error: 2.4941 - val_loss: 9.8637 - val_mse: 9.8637 - val_mean_absolute_error: 2.3898\n",
      "Epoch 2/25\n",
      "800000/800000 [==============================] - 65s 82us/step - loss: 9.6517 - mse: 9.6517 - mean_absolute_error: 2.3669 - val_loss: 9.4552 - val_mse: 9.4552 - val_mean_absolute_error: 2.3448\n",
      "Epoch 3/25\n",
      "800000/800000 [==============================] - 66s 83us/step - loss: 9.4300 - mse: 9.4300 - mean_absolute_error: 2.3381 - val_loss: 9.3453 - val_mse: 9.3453 - val_mean_absolute_error: 2.3276\n",
      "Epoch 4/25\n",
      "800000/800000 [==============================] - 65s 82us/step - loss: 9.2893 - mse: 9.2893 - mean_absolute_error: 2.3180 - val_loss: 9.2072 - val_mse: 9.2072 - val_mean_absolute_error: 2.3083\n",
      "Epoch 5/25\n",
      "800000/800000 [==============================] - 66s 83us/step - loss: 9.1882 - mse: 9.1882 - mean_absolute_error: 2.3041 - val_loss: 9.1862 - val_mse: 9.1862 - val_mean_absolute_error: 2.3034\n",
      "Epoch 6/25\n",
      "800000/800000 [==============================] - 67s 84us/step - loss: 9.1113 - mse: 9.1113 - mean_absolute_error: 2.2929 - val_loss: 9.0456 - val_mse: 9.0456 - val_mean_absolute_error: 2.2873\n",
      "Epoch 7/25\n",
      "800000/800000 [==============================] - 66s 82us/step - loss: 9.0529 - mse: 9.0529 - mean_absolute_error: 2.2849 - val_loss: 9.0235 - val_mse: 9.0235 - val_mean_absolute_error: 2.2815\n",
      "Epoch 8/25\n",
      "800000/800000 [==============================] - 66s 83us/step - loss: 9.0036 - mse: 9.0036 - mean_absolute_error: 2.2777 - val_loss: 9.0354 - val_mse: 9.0353 - val_mean_absolute_error: 2.2851\n",
      "Epoch 9/25\n",
      "800000/800000 [==============================] - 65s 81us/step - loss: 8.9649 - mse: 8.9649 - mean_absolute_error: 2.2720 - val_loss: 8.9385 - val_mse: 8.9385 - val_mean_absolute_error: 2.2705\n",
      "Epoch 10/25\n",
      "800000/800000 [==============================] - 73s 92us/step - loss: 8.9279 - mse: 8.9279 - mean_absolute_error: 2.2671 - val_loss: 8.9456 - val_mse: 8.9456 - val_mean_absolute_error: 2.2707\n",
      "Epoch 11/25\n",
      "800000/800000 [==============================] - 65s 81us/step - loss: 8.9035 - mse: 8.9035 - mean_absolute_error: 2.2633 - val_loss: 9.0218 - val_mse: 9.0218 - val_mean_absolute_error: 2.2805\n",
      "Epoch 12/25\n",
      "800000/800000 [==============================] - 66s 82us/step - loss: 8.8766 - mse: 8.8766 - mean_absolute_error: 2.2596 - val_loss: 8.9001 - val_mse: 8.9001 - val_mean_absolute_error: 2.2654\n",
      "Epoch 13/25\n",
      "800000/800000 [==============================] - 65s 81us/step - loss: 8.8587 - mse: 8.8587 - mean_absolute_error: 2.2570 - val_loss: 8.8625 - val_mse: 8.8625 - val_mean_absolute_error: 2.2594\n",
      "Epoch 14/25\n",
      "800000/800000 [==============================] - 66s 83us/step - loss: 8.8380 - mse: 8.8380 - mean_absolute_error: 2.2538 - val_loss: 8.8760 - val_mse: 8.8760 - val_mean_absolute_error: 2.2591\n",
      "Epoch 15/25\n",
      "800000/800000 [==============================] - 67s 84us/step - loss: 8.8163 - mse: 8.8164 - mean_absolute_error: 2.2503 - val_loss: 8.8406 - val_mse: 8.8406 - val_mean_absolute_error: 2.2557\n",
      "Epoch 16/25\n",
      "800000/800000 [==============================] - 66s 83us/step - loss: 8.7957 - mse: 8.7958 - mean_absolute_error: 2.2473 - val_loss: 8.8118 - val_mse: 8.8118 - val_mean_absolute_error: 2.2510\n",
      "Epoch 17/25\n",
      "800000/800000 [==============================] - 66s 83us/step - loss: 8.7802 - mse: 8.7802 - mean_absolute_error: 2.2446 - val_loss: 8.8019 - val_mse: 8.8019 - val_mean_absolute_error: 2.2477\n",
      "Epoch 18/25\n",
      "800000/800000 [==============================] - 65s 82us/step - loss: 8.7631 - mse: 8.7631 - mean_absolute_error: 2.2422 - val_loss: 8.8593 - val_mse: 8.8593 - val_mean_absolute_error: 2.2547\n",
      "Epoch 19/25\n",
      "800000/800000 [==============================] - 73s 91us/step - loss: 8.7429 - mse: 8.7429 - mean_absolute_error: 2.2390 - val_loss: 8.8124 - val_mse: 8.8124 - val_mean_absolute_error: 2.2527\n",
      "Epoch 20/25\n",
      "800000/800000 [==============================] - 65s 81us/step - loss: 8.7290 - mse: 8.7291 - mean_absolute_error: 2.2371 - val_loss: 8.7727 - val_mse: 8.7727 - val_mean_absolute_error: 2.2463\n",
      "Epoch 21/25\n",
      "800000/800000 [==============================] - 66s 83us/step - loss: 8.7187 - mse: 8.7187 - mean_absolute_error: 2.2355 - val_loss: 8.7292 - val_mse: 8.7292 - val_mean_absolute_error: 2.2382\n",
      "Epoch 22/25\n",
      "800000/800000 [==============================] - 65s 81us/step - loss: 8.7028 - mse: 8.7028 - mean_absolute_error: 2.2332 - val_loss: 8.7537 - val_mse: 8.7537 - val_mean_absolute_error: 2.2446\n",
      "Epoch 23/25\n",
      "800000/800000 [==============================] - 66s 83us/step - loss: 8.6901 - mse: 8.6901 - mean_absolute_error: 2.2313 - val_loss: 8.7243 - val_mse: 8.7242 - val_mean_absolute_error: 2.2384\n",
      "Epoch 24/25\n",
      "800000/800000 [==============================] - 70s 87us/step - loss: 8.6761 - mse: 8.6762 - mean_absolute_error: 2.2292 - val_loss: 8.7405 - val_mse: 8.7405 - val_mean_absolute_error: 2.2400\n",
      "Epoch 25/25\n",
      "800000/800000 [==============================] - 65s 82us/step - loss: 8.6633 - mse: 8.6633 - mean_absolute_error: 2.2273 - val_loss: 8.7996 - val_mse: 8.7996 - val_mean_absolute_error: 2.2416\n"
     ]
    }
   ],
   "source": [
    "#establish the optimized model using the parameters from final_params\n",
    "create_model(final_params['opt'], final_params['act'], final_params['nl'], final_params['nn'])\n",
    "\n",
    "#set up an early stopping callback with a patience of 3\n",
    "early_stopping = EarlyStopping(monitor = 'val_loss', patience = 3)\n",
    "\n",
    "#run the model with 25 epochs, saving the results to history\n",
    "history = model.fit(X_train, y_train, \n",
    "                    epochs = 25,\n",
    "                    validation_split = 0.2,\n",
    "                    callbacks = [early_stopping])"
   ]
  },
  {
   "cell_type": "markdown",
   "metadata": {},
   "source": [
    "# 5 Evaluate Model\n",
    "\n",
    "I'll begin by plotting the loss of the validation and training set over each epoch of the model."
   ]
  },
  {
   "cell_type": "code",
   "execution_count": 39,
   "metadata": {
    "scrolled": false
   },
   "outputs": [
    {
     "data": {
      "image/png": "[encoded data removed]",
      "text/plain": [
       "<Figure size 432x288 with 1 Axes>"
      ]
     },
     "metadata": {
      "needs_background": "light"
     },
     "output_type": "display_data"
    }
   ],
   "source": [
    "#plot the training and validation loss over each epoch\n",
    "plt.plot(history.history['mse'])\n",
    "plt.plot(history.history['val_mse'])\n",
    "plt.title('Model Accuracy by Epoch')\n",
    "plt.xlabel('Epoch')\n",
    "plt.ylabel('Mean Squared Error')\n",
    "plt.legend({'Train', 'Validation'})\n",
    "\n",
    "plt.savefig('model_acc_latlong.png', dpi=300)"
   ]
  },
  {
   "cell_type": "markdown",
   "metadata": {},
   "source": [
    "The training data shows a surprising amount of erratic motion, although this could be explained by the relatively small size of the set. Next, I want to see how well the predicted and actual values align. I'll do this by zipping the values together into a dataframe, and plotting using pyplot."
   ]
  },
  {
   "cell_type": "code",
   "execution_count": 44,
   "metadata": {
    "scrolled": false
   },
   "outputs": [],
   "source": [
    "y_pred = model.predict(X_test)"
   ]
  },
  {
   "cell_type": "code",
   "execution_count": 75,
   "metadata": {},
   "outputs": [],
   "source": [
    "#bind y_test and pred into a single df/ndarray and take a random sample to plot\n",
    "bound_vals = pd.DataFrame(columns= ['predicted', 'actual'])\n",
    "bound_vals['predicted'] = y_pred\n",
    "bound_vals['actual'] = y_test\n",
    "\n",
    "bound_vals_sample = bound_vals.sample(5000)"
   ]
  },
  {
   "cell_type": "code",
   "execution_count": 76,
   "metadata": {},
   "outputs": [
    {
     "data": {
      "image/png": "[encoded data removed]",
      "text/plain": [
       "<Figure size 432x288 with 1 Axes>"
      ]
     },
     "metadata": {
      "needs_background": "light"
     },
     "output_type": "display_data"
    }
   ],
   "source": [
    "#plot the test vals against the predictions\n",
    "plt.scatter(bound_vals_sample['actual'], bound_vals_sample['predicted'], color = 'darkred', alpha = 0.05)\n",
    "plt.title('Predicted Values vs. Actual Values')\n",
    "plt.xlabel('Actual Value')\n",
    "plt.ylabel('Predicted Value')\n",
    "\n",
    "plt.savefig('pred_act_scatter_new.png', dpi=300)"
   ]
  },
  {
   "cell_type": "code",
   "execution_count": null,
   "metadata": {},
   "outputs": [],
   "source": []
  }
 ],
 "metadata": {
  "kernelspec": {
   "display_name": "Python 3",
   "language": "python",
   "name": "python3"
  },
  "language_info": {
   "codemirror_mode": {
    "name": "ipython",
    "version": 3
   },
   "file_extension": ".py",
   "mimetype": "text/x-python",
   "name": "python",
   "nbconvert_exporter": "python",
   "pygments_lexer": "ipython3",
   "version": "3.7.8"
  }
 },
 "nbformat": 4,
 "nbformat_minor": 4
}
